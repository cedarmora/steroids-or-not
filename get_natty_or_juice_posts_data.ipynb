{
 "cells": [
  {
   "cell_type": "markdown",
   "metadata": {},
   "source": [
    "# Collect all nattyorjuice post urls to manually gather data"
   ]
  },
  {
   "cell_type": "markdown",
   "metadata": {},
   "source": [
    "## Install/import stuff"
   ]
  },
  {
   "cell_type": "code",
   "execution_count": null,
   "metadata": {},
   "outputs": [
    {
     "name": "stdout",
     "output_type": "stream",
     "text": [
      "Defaulting to user installation because normal site-packages is not writeable\n",
      "Processing /home/cedar/source/steroids-or-not\n",
      "\u001b[33m  DEPRECATION: A future pip version will change local packages to be built in-place without first copying to a temporary directory. We recommend you use --use-feature=in-tree-build to test your packages with this new behavior before it becomes the default.\n",
      "   pip 21.3 will remove support for this functionality. You can find discussion regarding this at https://github.com/pypa/pip/issues/7555.\u001b[0m\n",
      "Requirement already satisfied: pip in /home/cedar/.local/lib/python3.6/site-packages (from steroids-or-not==0.0.1) (21.1.3)\n",
      "Requirement already satisfied: packaging in /home/cedar/.local/lib/python3.6/site-packages (from steroids-or-not==0.0.1) (21.0)\n",
      "Requirement already satisfied: praw in /home/cedar/.local/lib/python3.6/site-packages (from steroids-or-not==0.0.1) (7.4.0)\n",
      "Requirement already satisfied: python-dotenv in /home/cedar/.local/lib/python3.6/site-packages (from steroids-or-not==0.0.1) (0.19.0)\n",
      "Requirement already satisfied: fastai>=2.0.0 in /home/cedar/.local/lib/python3.6/site-packages (from steroids-or-not==0.0.1) (2.4.1)\n",
      "Requirement already satisfied: graphviz in /home/cedar/.local/lib/python3.6/site-packages (from steroids-or-not==0.0.1) (0.17)\n",
      "Requirement already satisfied: ipywidgets in /home/cedar/.local/lib/python3.6/site-packages (from steroids-or-not==0.0.1) (7.6.3)\n",
      "Requirement already satisfied: matplotlib in /home/cedar/.local/lib/python3.6/site-packages (from steroids-or-not==0.0.1) (3.3.4)\n",
      "Requirement already satisfied: nbdev>=0.2.12 in /home/cedar/.local/lib/python3.6/site-packages (from steroids-or-not==0.0.1) (1.1.14)\n",
      "Requirement already satisfied: jedi==0.17.2 in /home/cedar/.local/lib/python3.6/site-packages (from steroids-or-not==0.0.1) (0.17.2)\n",
      "Requirement already satisfied: black in /home/cedar/.local/lib/python3.6/site-packages (from steroids-or-not==0.0.1) (21.7b0)\n",
      "Requirement already satisfied: nbdime in /home/cedar/.local/lib/python3.6/site-packages (from steroids-or-not==0.0.1) (3.1.0)\n",
      "Requirement already satisfied: parso<0.8.0,>=0.7.0 in /home/cedar/.local/lib/python3.6/site-packages (from jedi==0.17.2->steroids-or-not==0.0.1) (0.7.1)\n",
      "Requirement already satisfied: torchvision>=0.8.2 in /home/cedar/.local/lib/python3.6/site-packages (from fastai>=2.0.0->steroids-or-not==0.0.1) (0.10.0)\n",
      "Requirement already satisfied: fastcore<1.4,>=1.3.8 in /home/cedar/.local/lib/python3.6/site-packages (from fastai>=2.0.0->steroids-or-not==0.0.1) (1.3.20)\n",
      "Requirement already satisfied: scikit-learn in /home/cedar/.local/lib/python3.6/site-packages (from fastai>=2.0.0->steroids-or-not==0.0.1) (0.24.2)\n",
      "Requirement already satisfied: scipy in /home/cedar/.local/lib/python3.6/site-packages (from fastai>=2.0.0->steroids-or-not==0.0.1) (1.5.4)\n",
      "Requirement already satisfied: pyyaml in /home/cedar/.local/lib/python3.6/site-packages (from fastai>=2.0.0->steroids-or-not==0.0.1) (5.4.1)\n",
      "Requirement already satisfied: spacy<4 in /home/cedar/.local/lib/python3.6/site-packages (from fastai>=2.0.0->steroids-or-not==0.0.1) (3.1.1)\n",
      "Requirement already satisfied: pillow>6.0.0 in /home/cedar/.local/lib/python3.6/site-packages (from fastai>=2.0.0->steroids-or-not==0.0.1) (8.3.1)\n",
      "Requirement already satisfied: pandas in /home/cedar/.local/lib/python3.6/site-packages (from fastai>=2.0.0->steroids-or-not==0.0.1) (1.1.5)\n",
      "Requirement already satisfied: requests in /usr/lib/python3/dist-packages (from fastai>=2.0.0->steroids-or-not==0.0.1) (2.18.4)\n",
      "Requirement already satisfied: torch<1.10,>=1.7.0 in /home/cedar/.local/lib/python3.6/site-packages (from fastai>=2.0.0->steroids-or-not==0.0.1) (1.9.0)\n",
      "Requirement already satisfied: fastprogress>=0.2.4 in /home/cedar/.local/lib/python3.6/site-packages (from fastai>=2.0.0->steroids-or-not==0.0.1) (1.0.0)\n",
      "Requirement already satisfied: numpy in /home/cedar/.local/lib/python3.6/site-packages (from fastprogress>=0.2.4->fastai>=2.0.0->steroids-or-not==0.0.1) (1.19.5)\n",
      "Requirement already satisfied: ipykernel in /home/cedar/.local/lib/python3.6/site-packages (from nbdev>=0.2.12->steroids-or-not==0.0.1) (5.5.5)\n",
      "Requirement already satisfied: jupyter-client<=6.1.12 in /home/cedar/.local/lib/python3.6/site-packages (from nbdev>=0.2.12->steroids-or-not==0.0.1) (6.1.12)\n",
      "Requirement already satisfied: nbconvert<6 in /home/cedar/.local/lib/python3.6/site-packages (from nbdev>=0.2.12->steroids-or-not==0.0.1) (5.6.1)\n",
      "Requirement already satisfied: nbformat>=4.4.0 in /home/cedar/.local/lib/python3.6/site-packages (from nbdev>=0.2.12->steroids-or-not==0.0.1) (5.1.3)\n",
      "Requirement already satisfied: jupyter in /home/cedar/.local/lib/python3.6/site-packages (from nbdev>=0.2.12->steroids-or-not==0.0.1) (1.0.0)\n",
      "Requirement already satisfied: fastrelease in /home/cedar/.local/lib/python3.6/site-packages (from nbdev>=0.2.12->steroids-or-not==0.0.1) (0.1.11)\n",
      "Requirement already satisfied: ghapi in /home/cedar/.local/lib/python3.6/site-packages (from nbdev>=0.2.12->steroids-or-not==0.0.1) (0.1.19)\n",
      "Requirement already satisfied: traitlets in /home/cedar/.local/lib/python3.6/site-packages (from jupyter-client<=6.1.12->nbdev>=0.2.12->steroids-or-not==0.0.1) (4.3.3)\n",
      "Requirement already satisfied: pyzmq>=13 in /home/cedar/.local/lib/python3.6/site-packages (from jupyter-client<=6.1.12->nbdev>=0.2.12->steroids-or-not==0.0.1) (22.1.0)\n",
      "Requirement already satisfied: jupyter-core>=4.6.0 in /home/cedar/.local/lib/python3.6/site-packages (from jupyter-client<=6.1.12->nbdev>=0.2.12->steroids-or-not==0.0.1) (4.7.1)\n",
      "Requirement already satisfied: tornado>=4.1 in /home/cedar/.local/lib/python3.6/site-packages (from jupyter-client<=6.1.12->nbdev>=0.2.12->steroids-or-not==0.0.1) (6.1)\n",
      "Requirement already satisfied: python-dateutil>=2.1 in /home/cedar/.local/lib/python3.6/site-packages (from jupyter-client<=6.1.12->nbdev>=0.2.12->steroids-or-not==0.0.1) (2.8.2)\n",
      "Requirement already satisfied: pandocfilters>=1.4.1 in /home/cedar/.local/lib/python3.6/site-packages (from nbconvert<6->nbdev>=0.2.12->steroids-or-not==0.0.1) (1.4.3)\n",
      "Requirement already satisfied: mistune<2,>=0.8.1 in /home/cedar/.local/lib/python3.6/site-packages (from nbconvert<6->nbdev>=0.2.12->steroids-or-not==0.0.1) (0.8.4)\n",
      "Requirement already satisfied: defusedxml in /home/cedar/.local/lib/python3.6/site-packages (from nbconvert<6->nbdev>=0.2.12->steroids-or-not==0.0.1) (0.7.1)\n",
      "Requirement already satisfied: pygments in /home/cedar/.local/lib/python3.6/site-packages (from nbconvert<6->nbdev>=0.2.12->steroids-or-not==0.0.1) (2.9.0)\n",
      "Requirement already satisfied: testpath in /home/cedar/.local/lib/python3.6/site-packages (from nbconvert<6->nbdev>=0.2.12->steroids-or-not==0.0.1) (0.5.0)\n",
      "Requirement already satisfied: jinja2>=2.4 in /home/cedar/.local/lib/python3.6/site-packages (from nbconvert<6->nbdev>=0.2.12->steroids-or-not==0.0.1) (3.0.1)\n",
      "Requirement already satisfied: bleach in /home/cedar/.local/lib/python3.6/site-packages (from nbconvert<6->nbdev>=0.2.12->steroids-or-not==0.0.1) (3.3.1)\n",
      "Requirement already satisfied: entrypoints>=0.2.2 in /home/cedar/.local/lib/python3.6/site-packages (from nbconvert<6->nbdev>=0.2.12->steroids-or-not==0.0.1) (0.3)\n",
      "Requirement already satisfied: MarkupSafe>=2.0 in /home/cedar/.local/lib/python3.6/site-packages (from jinja2>=2.4->nbconvert<6->nbdev>=0.2.12->steroids-or-not==0.0.1) (2.0.1)\n",
      "Requirement already satisfied: jsonschema!=2.5.0,>=2.4 in /home/cedar/.local/lib/python3.6/site-packages (from nbformat>=4.4.0->nbdev>=0.2.12->steroids-or-not==0.0.1) (3.2.0)\n",
      "Requirement already satisfied: ipython-genutils in /home/cedar/.local/lib/python3.6/site-packages (from nbformat>=4.4.0->nbdev>=0.2.12->steroids-or-not==0.0.1) (0.2.0)\n",
      "Requirement already satisfied: attrs>=17.4.0 in /home/cedar/.local/lib/python3.6/site-packages (from jsonschema!=2.5.0,>=2.4->nbformat>=4.4.0->nbdev>=0.2.12->steroids-or-not==0.0.1) (21.2.0)\n",
      "Requirement already satisfied: setuptools in /home/cedar/.local/lib/python3.6/site-packages (from jsonschema!=2.5.0,>=2.4->nbformat>=4.4.0->nbdev>=0.2.12->steroids-or-not==0.0.1) (57.4.0)\n",
      "Requirement already satisfied: importlib-metadata in /home/cedar/.local/lib/python3.6/site-packages (from jsonschema!=2.5.0,>=2.4->nbformat>=4.4.0->nbdev>=0.2.12->steroids-or-not==0.0.1) (4.6.1)\n",
      "Requirement already satisfied: six>=1.11.0 in /home/cedar/.local/lib/python3.6/site-packages (from jsonschema!=2.5.0,>=2.4->nbformat>=4.4.0->nbdev>=0.2.12->steroids-or-not==0.0.1) (1.16.0)\n",
      "Requirement already satisfied: pyrsistent>=0.14.0 in /home/cedar/.local/lib/python3.6/site-packages (from jsonschema!=2.5.0,>=2.4->nbformat>=4.4.0->nbdev>=0.2.12->steroids-or-not==0.0.1) (0.18.0)\n"
     ]
    },
    {
     "name": "stdout",
     "output_type": "stream",
     "text": [
      "Requirement already satisfied: preshed<3.1.0,>=3.0.2 in /home/cedar/.local/lib/python3.6/site-packages (from spacy<4->fastai>=2.0.0->steroids-or-not==0.0.1) (3.0.5)\n",
      "Requirement already satisfied: catalogue<2.1.0,>=2.0.4 in /home/cedar/.local/lib/python3.6/site-packages (from spacy<4->fastai>=2.0.0->steroids-or-not==0.0.1) (2.0.4)\n",
      "Requirement already satisfied: tqdm<5.0.0,>=4.38.0 in /home/cedar/.local/lib/python3.6/site-packages (from spacy<4->fastai>=2.0.0->steroids-or-not==0.0.1) (4.62.0)\n",
      "Requirement already satisfied: thinc<8.1.0,>=8.0.8 in /home/cedar/.local/lib/python3.6/site-packages (from spacy<4->fastai>=2.0.0->steroids-or-not==0.0.1) (8.0.8)\n",
      "Requirement already satisfied: wasabi<1.1.0,>=0.8.1 in /home/cedar/.local/lib/python3.6/site-packages (from spacy<4->fastai>=2.0.0->steroids-or-not==0.0.1) (0.8.2)\n",
      "Requirement already satisfied: spacy-legacy<3.1.0,>=3.0.7 in /home/cedar/.local/lib/python3.6/site-packages (from spacy<4->fastai>=2.0.0->steroids-or-not==0.0.1) (3.0.8)\n",
      "Requirement already satisfied: pydantic!=1.8,!=1.8.1,<1.9.0,>=1.7.4 in /home/cedar/.local/lib/python3.6/site-packages (from spacy<4->fastai>=2.0.0->steroids-or-not==0.0.1) (1.8.2)\n",
      "Requirement already satisfied: cymem<2.1.0,>=2.0.2 in /home/cedar/.local/lib/python3.6/site-packages (from spacy<4->fastai>=2.0.0->steroids-or-not==0.0.1) (2.0.5)\n",
      "Requirement already satisfied: srsly<3.0.0,>=2.4.1 in /home/cedar/.local/lib/python3.6/site-packages (from spacy<4->fastai>=2.0.0->steroids-or-not==0.0.1) (2.4.1)\n",
      "Requirement already satisfied: typing-extensions<4.0.0.0,>=3.7.4 in /home/cedar/.local/lib/python3.6/site-packages (from spacy<4->fastai>=2.0.0->steroids-or-not==0.0.1) (3.10.0.0)\n",
      "Requirement already satisfied: murmurhash<1.1.0,>=0.28.0 in /home/cedar/.local/lib/python3.6/site-packages (from spacy<4->fastai>=2.0.0->steroids-or-not==0.0.1) (1.0.5)\n",
      "Requirement already satisfied: pathy>=0.3.5 in /home/cedar/.local/lib/python3.6/site-packages (from spacy<4->fastai>=2.0.0->steroids-or-not==0.0.1) (0.6.0)\n",
      "Requirement already satisfied: typer<0.4.0,>=0.3.0 in /home/cedar/.local/lib/python3.6/site-packages (from spacy<4->fastai>=2.0.0->steroids-or-not==0.0.1) (0.3.2)\n",
      "Requirement already satisfied: blis<0.8.0,>=0.4.0 in /home/cedar/.local/lib/python3.6/site-packages (from spacy<4->fastai>=2.0.0->steroids-or-not==0.0.1) (0.7.4)\n",
      "Requirement already satisfied: zipp>=0.5 in /home/cedar/.local/lib/python3.6/site-packages (from catalogue<2.1.0,>=2.0.4->spacy<4->fastai>=2.0.0->steroids-or-not==0.0.1) (3.5.0)\n",
      "Requirement already satisfied: pyparsing>=2.0.2 in /home/cedar/.local/lib/python3.6/site-packages (from packaging->steroids-or-not==0.0.1) (2.4.7)\n",
      "Requirement already satisfied: dataclasses<1.0,>=0.6 in /home/cedar/.local/lib/python3.6/site-packages (from pathy>=0.3.5->spacy<4->fastai>=2.0.0->steroids-or-not==0.0.1) (0.8)\n",
      "Requirement already satisfied: smart-open<6.0.0,>=5.0.0 in /home/cedar/.local/lib/python3.6/site-packages (from pathy>=0.3.5->spacy<4->fastai>=2.0.0->steroids-or-not==0.0.1) (5.1.0)\n",
      "Requirement already satisfied: contextvars<3,>=2.4 in /home/cedar/.local/lib/python3.6/site-packages (from thinc<8.1.0,>=8.0.8->spacy<4->fastai>=2.0.0->steroids-or-not==0.0.1) (2.4)\n",
      "Requirement already satisfied: immutables>=0.9 in /home/cedar/.local/lib/python3.6/site-packages (from contextvars<3,>=2.4->thinc<8.1.0,>=8.0.8->spacy<4->fastai>=2.0.0->steroids-or-not==0.0.1) (0.15)\n",
      "Requirement already satisfied: decorator in /home/cedar/.local/lib/python3.6/site-packages (from traitlets->jupyter-client<=6.1.12->nbdev>=0.2.12->steroids-or-not==0.0.1) (5.0.9)\n",
      "Requirement already satisfied: click<7.2.0,>=7.1.1 in /home/cedar/.local/lib/python3.6/site-packages (from typer<0.4.0,>=0.3.0->spacy<4->fastai>=2.0.0->steroids-or-not==0.0.1) (7.1.2)\n",
      "Requirement already satisfied: typed-ast>=1.4.2 in /home/cedar/.local/lib/python3.6/site-packages (from black->steroids-or-not==0.0.1) (1.4.3)\n",
      "Requirement already satisfied: mypy-extensions>=0.4.3 in /home/cedar/.local/lib/python3.6/site-packages (from black->steroids-or-not==0.0.1) (0.4.3)\n",
      "Requirement already satisfied: pathspec<1,>=0.8.1 in /home/cedar/.local/lib/python3.6/site-packages (from black->steroids-or-not==0.0.1) (0.9.0)\n",
      "Requirement already satisfied: appdirs in /home/cedar/.local/lib/python3.6/site-packages (from black->steroids-or-not==0.0.1) (1.4.4)\n",
      "Requirement already satisfied: regex>=2020.1.8 in /home/cedar/.local/lib/python3.6/site-packages (from black->steroids-or-not==0.0.1) (2021.8.3)\n",
      "Requirement already satisfied: tomli<2.0.0,>=0.2.6 in /home/cedar/.local/lib/python3.6/site-packages (from black->steroids-or-not==0.0.1) (1.2.1)\n",
      "Requirement already satisfied: webencodings in /home/cedar/.local/lib/python3.6/site-packages (from bleach->nbconvert<6->nbdev>=0.2.12->steroids-or-not==0.0.1) (0.5.1)\n",
      "Requirement already satisfied: ipython>=5.0.0 in /home/cedar/.local/lib/python3.6/site-packages (from ipykernel->nbdev>=0.2.12->steroids-or-not==0.0.1) (7.16.1)\n",
      "Requirement already satisfied: pexpect in /home/cedar/.local/lib/python3.6/site-packages (from ipython>=5.0.0->ipykernel->nbdev>=0.2.12->steroids-or-not==0.0.1) (4.8.0)\n",
      "Requirement already satisfied: pickleshare in /home/cedar/.local/lib/python3.6/site-packages (from ipython>=5.0.0->ipykernel->nbdev>=0.2.12->steroids-or-not==0.0.1) (0.7.5)\n",
      "Requirement already satisfied: prompt-toolkit!=3.0.0,!=3.0.1,<3.1.0,>=2.0.0 in /home/cedar/.local/lib/python3.6/site-packages (from ipython>=5.0.0->ipykernel->nbdev>=0.2.12->steroids-or-not==0.0.1) (3.0.19)\n",
      "Requirement already satisfied: backcall in /home/cedar/.local/lib/python3.6/site-packages (from ipython>=5.0.0->ipykernel->nbdev>=0.2.12->steroids-or-not==0.0.1) (0.2.0)\n",
      "Requirement already satisfied: wcwidth in /home/cedar/.local/lib/python3.6/site-packages (from prompt-toolkit!=3.0.0,!=3.0.1,<3.1.0,>=2.0.0->ipython>=5.0.0->ipykernel->nbdev>=0.2.12->steroids-or-not==0.0.1) (0.2.5)\n",
      "Requirement already satisfied: widgetsnbextension~=3.5.0 in /home/cedar/.local/lib/python3.6/site-packages (from ipywidgets->steroids-or-not==0.0.1) (3.5.1)\n",
      "Requirement already satisfied: jupyterlab-widgets>=1.0.0 in /home/cedar/.local/lib/python3.6/site-packages (from ipywidgets->steroids-or-not==0.0.1) (1.0.0)\n",
      "Requirement already satisfied: notebook>=4.4.1 in /home/cedar/.local/lib/python3.6/site-packages (from widgetsnbextension~=3.5.0->ipywidgets->steroids-or-not==0.0.1) (6.4.0)\n",
      "Requirement already satisfied: terminado>=0.8.3 in /home/cedar/.local/lib/python3.6/site-packages (from notebook>=4.4.1->widgetsnbextension~=3.5.0->ipywidgets->steroids-or-not==0.0.1) (0.10.1)\n",
      "Requirement already satisfied: Send2Trash>=1.5.0 in /home/cedar/.local/lib/python3.6/site-packages (from notebook>=4.4.1->widgetsnbextension~=3.5.0->ipywidgets->steroids-or-not==0.0.1) (1.7.1)\n",
      "Requirement already satisfied: argon2-cffi in /home/cedar/.local/lib/python3.6/site-packages (from notebook>=4.4.1->widgetsnbextension~=3.5.0->ipywidgets->steroids-or-not==0.0.1) (20.1.0)\n",
      "Requirement already satisfied: prometheus-client in /home/cedar/.local/lib/python3.6/site-packages (from notebook>=4.4.1->widgetsnbextension~=3.5.0->ipywidgets->steroids-or-not==0.0.1) (0.11.0)\n",
      "Requirement already satisfied: ptyprocess in /home/cedar/.local/lib/python3.6/site-packages (from terminado>=0.8.3->notebook>=4.4.1->widgetsnbextension~=3.5.0->ipywidgets->steroids-or-not==0.0.1) (0.7.0)\n",
      "Requirement already satisfied: cffi>=1.0.0 in /home/cedar/.local/lib/python3.6/site-packages (from argon2-cffi->notebook>=4.4.1->widgetsnbextension~=3.5.0->ipywidgets->steroids-or-not==0.0.1) (1.14.6)\n",
      "Requirement already satisfied: pycparser in /home/cedar/.local/lib/python3.6/site-packages (from cffi>=1.0.0->argon2-cffi->notebook>=4.4.1->widgetsnbextension~=3.5.0->ipywidgets->steroids-or-not==0.0.1) (2.20)\n",
      "Requirement already satisfied: jupyter-console in /home/cedar/.local/lib/python3.6/site-packages (from jupyter->nbdev>=0.2.12->steroids-or-not==0.0.1) (6.4.0)\n",
      "Requirement already satisfied: qtconsole in /home/cedar/.local/lib/python3.6/site-packages (from jupyter->nbdev>=0.2.12->steroids-or-not==0.0.1) (5.1.1)\n",
      "Requirement already satisfied: cycler>=0.10 in /home/cedar/.local/lib/python3.6/site-packages (from matplotlib->steroids-or-not==0.0.1) (0.10.0)\n",
      "Requirement already satisfied: kiwisolver>=1.0.1 in /home/cedar/.local/lib/python3.6/site-packages (from matplotlib->steroids-or-not==0.0.1) (1.3.1)\n"
     ]
    },
    {
     "name": "stdout",
     "output_type": "stream",
     "text": [
      "Requirement already satisfied: jupyter-server-mathjax>=0.2.2 in /home/cedar/.local/lib/python3.6/site-packages (from nbdime->steroids-or-not==0.0.1) (0.2.3)\n",
      "Requirement already satisfied: GitPython!=2.1.4,!=2.1.5,!=2.1.6 in /home/cedar/.local/lib/python3.6/site-packages (from nbdime->steroids-or-not==0.0.1) (3.1.18)\n",
      "Requirement already satisfied: jupyter-server in /home/cedar/.local/lib/python3.6/site-packages (from nbdime->steroids-or-not==0.0.1) (1.10.0)\n",
      "Requirement already satisfied: colorama in /usr/lib/python3/dist-packages (from nbdime->steroids-or-not==0.0.1) (0.3.7)\n",
      "Requirement already satisfied: gitdb<5,>=4.0.1 in /home/cedar/.local/lib/python3.6/site-packages (from GitPython!=2.1.4,!=2.1.5,!=2.1.6->nbdime->steroids-or-not==0.0.1) (4.0.7)\n",
      "Requirement already satisfied: smmap<5,>=3.0.1 in /home/cedar/.local/lib/python3.6/site-packages (from gitdb<5,>=4.0.1->GitPython!=2.1.4,!=2.1.5,!=2.1.6->nbdime->steroids-or-not==0.0.1) (4.0.0)\n",
      "Requirement already satisfied: anyio<4,>=3.1.0 in /home/cedar/.local/lib/python3.6/site-packages (from jupyter-server->nbdime->steroids-or-not==0.0.1) (3.3.0)\n",
      "Requirement already satisfied: websocket-client in /home/cedar/.local/lib/python3.6/site-packages (from jupyter-server->nbdime->steroids-or-not==0.0.1) (1.1.0)\n",
      "Requirement already satisfied: requests-unixsocket in /usr/lib/python3/dist-packages (from jupyter-server->nbdime->steroids-or-not==0.0.1) (0.1.5)\n",
      "Requirement already satisfied: sniffio>=1.1 in /home/cedar/.local/lib/python3.6/site-packages (from anyio<4,>=3.1.0->jupyter-server->nbdime->steroids-or-not==0.0.1) (1.2.0)\n",
      "Requirement already satisfied: idna>=2.8 in /home/cedar/.local/lib/python3.6/site-packages (from anyio<4,>=3.1.0->jupyter-server->nbdime->steroids-or-not==0.0.1) (3.2)\n",
      "Requirement already satisfied: pytz>=2017.2 in /usr/lib/python3/dist-packages (from pandas->fastai>=2.0.0->steroids-or-not==0.0.1) (2018.3)\n",
      "Requirement already satisfied: prawcore<3,>=2.1 in /home/cedar/.local/lib/python3.6/site-packages (from praw->steroids-or-not==0.0.1) (2.3.0)\n",
      "Requirement already satisfied: update-checker>=0.18 in /home/cedar/.local/lib/python3.6/site-packages (from praw->steroids-or-not==0.0.1) (0.18.0)\n",
      "Requirement already satisfied: qtpy in /home/cedar/.local/lib/python3.6/site-packages (from qtconsole->jupyter->nbdev>=0.2.12->steroids-or-not==0.0.1) (1.9.0)\n",
      "Requirement already satisfied: joblib>=0.11 in /home/cedar/.local/lib/python3.6/site-packages (from scikit-learn->fastai>=2.0.0->steroids-or-not==0.0.1) (1.0.1)\n",
      "Requirement already satisfied: threadpoolctl>=2.0.0 in /home/cedar/.local/lib/python3.6/site-packages (from scikit-learn->fastai>=2.0.0->steroids-or-not==0.0.1) (2.2.0)\n",
      "Building wheels for collected packages: steroids-or-not\n",
      "  Building wheel for steroids-or-not (setup.py) ... \u001b[?25ldone\n",
      "\u001b[?25h  Created wheel for steroids-or-not: filename=steroids_or_not-0.0.1-py3-none-any.whl size=4107 sha256=80d99700c31a7a89fbbd2aaac0514762c1665f45632fbd4c1ae8724c3ef00e58\n",
      "  Stored in directory: /home/cedar/.cache/pip/wheels/8b/e8/f0/812780b69e692fdae0be65743cbacdc466f0d0c0cc3446797e\n",
      "Successfully built steroids-or-not\n",
      "Installing collected packages: steroids-or-not\n",
      "  Attempting uninstall: steroids-or-not\n",
      "    Found existing installation: steroids-or-not 0.0.1\n",
      "    Uninstalling steroids-or-not-0.0.1:\n",
      "      Successfully uninstalled steroids-or-not-0.0.1\n",
      "Successfully installed steroids-or-not-0.0.1\n",
      "\u001b[33mWARNING: You are using pip version 21.1.3; however, version 21.2.2 is available.\n",
      "You should consider upgrading via the '/usr/bin/python3 -m pip install --upgrade pip' command.\u001b[0m\n",
      "Enabling: nbdime\n",
      "- Writing config: /home/cedar/.jupyter\n",
      "    - Validating...\n",
      "      nbdime 3.1.0 \u001b[32mOK\u001b[0m\n",
      "Installing /home/cedar/.local/lib/python3.6/site-packages/nbdime/notebook_ext -> nbdime\n",
      "Up to date: /home/cedar/.local/share/jupyter/nbextensions/nbdime/nbdime.yaml\n",
      "Up to date: /home/cedar/.local/share/jupyter/nbextensions/nbdime/index.js\n",
      "- Validating: \u001b[32mOK\u001b[0m\n",
      "\n",
      "    To initialize this nbextension in the browser every time the notebook (or other app) loads:\n",
      "    \n",
      "          jupyter nbextension enable nbdime --user --py\n",
      "    \n",
      "Enabling notebook extension nbdime/index...\n",
      "      - Validating: \u001b[32mOK\u001b[0m\n",
      "Install labextension(s)\n",
      "\n",
      " Usage\n",
      "\n",
      "    jupyter labextension install [--pin-version-as <alias,...>] <package...>\n",
      "\n",
      "This installs JupyterLab extensions similar to yarn add or npm install.\n",
      "\n",
      "Pass a list of comma seperate names to the --pin-version-as flag to use as\n",
      "alises for the packages providers. This is useful to install multiple versions\n",
      "of the same extension. These can be uninstalled with the alias you provided to\n",
      "the flag, similar to the \"alias\" feature of yarn add.\n",
      "\n",
      "Options\n",
      "-------\n",
      "\n",
      "Arguments that take values are actually convenience aliases to full\n",
      "Configurables, whose aliases are listed on the help line. For more information\n",
      "on full configurables, see '--help-all'.\n",
      "\n",
      "--debug\n",
      "    set log level to logging.DEBUG (maximize logging output)\n",
      "--generate-config\n",
      "    generate default config file\n",
      "-y\n",
      "    Answer yes to any questions instead of prompting.\n",
      "--no-build\n",
      "    Defer building the app after the action.\n",
      "--dev-build\n",
      "    Build in development mode.\n",
      "--no-minimize\n",
      "    Do not minimize a production build.\n",
      "--clean\n",
      "    Cleanup intermediate files after the action.\n",
      "--log-level=<Enum> (Application.log_level)\n",
      "    Default: 30\n",
      "    Choices: (0, 10, 20, 30, 40, 50, 'DEBUG', 'INFO', 'WARN', 'ERROR', 'CRITICAL')\n",
      "    Set the log level by value or name.\n",
      "--config=<Unicode> (JupyterApp.config_file)\n",
      "    Default: ''\n",
      "    Full path of a config file.\n",
      "--app-dir=<Unicode> (BaseExtensionApp.app_dir)\n",
      "    Default: ''\n",
      "    The app directory to target\n",
      "--dev-build=<Bool> (BaseExtensionApp.dev_build)\n",
      "    Default: None\n",
      "    Whether to build in dev mode. Defaults to True (dev mode) if there are any\n",
      "    locally linked extensions, else defaults to False (production mode).\n",
      "--minimize=<Bool> (BaseExtensionApp.minimize)\n",
      "    Default: True\n",
      "    Whether to minimize a production build (defaults to True).\n",
      "--debug-log-path=<Unicode> (DebugLogFileMixin.debug_log_path)\n",
      "    Default: ''\n",
      "    Path to use for the debug log file\n",
      "--pin-version-as=<Unicode> (InstallLabExtensionApp.pin)\n",
      "    Default: ''\n",
      "    Pin this version with a certain alias\n",
      "\n",
      "To see all available configurables, use `--help-all`\n",
      "\n",
      "Bad config encountered during initialization:\n",
      "Unrecognized flag: '--user'\n"
     ]
    }
   ],
   "source": [
    "#hide\n",
    "!pip install .[dev]\n",
    "\n",
    "#!jupyter nbextension install https://github.com/drillan/jupyter-black/archive/master.zip --user\n",
    "#!jupyter nbextension enable jupyter-black-master/jupyter-black\n",
    "\n",
    "!nbdime extensions --enable --user"
   ]
  },
  {
   "cell_type": "code",
   "execution_count": null,
   "metadata": {},
   "outputs": [],
   "source": [
    "# hide\n",
    "\n",
    "## Loads environment variables from .env file\n",
    "\n",
    "%load_ext dotenv\n",
    "%dotenv\n",
    "import os\n",
    "import requests\n",
    "import time\n",
    "import datetime\n",
    "import sys\n",
    "import pickle\n",
    "from requests.adapters import HTTPAdapter\n",
    "from collections import Counter\n",
    "import webbrowser"
   ]
  },
  {
   "cell_type": "markdown",
   "metadata": {},
   "source": [
    "## Data discovery"
   ]
  },
  {
   "cell_type": "code",
   "execution_count": null,
   "metadata": {},
   "outputs": [],
   "source": [
    "pushshift = \"https://api.pushshift.io/reddit/\"\n",
    "pushshift_submission_url = pushshift + \"submission/search\"\n",
    "one_year_seconds = 1 * 365 * 24 * 60 * 60\n",
    "before = int(time.time() - (one_year_seconds * 9))\n",
    "\n",
    "params = {\n",
    "    \"subreddit\": \"nattyorjuice\",\n",
    "    \"size\": \"25\",\n",
    "}"
   ]
  },
  {
   "cell_type": "code",
   "execution_count": null,
   "metadata": {},
   "outputs": [],
   "source": [
    "# t0 = time.time()\n",
    "response = requests.get(pushshift_submission_url, params=params)\n",
    "# t1 = time.time()\n",
    "\n",
    "# total = t1-t0"
   ]
  },
  {
   "cell_type": "code",
   "execution_count": null,
   "metadata": {},
   "outputs": [],
   "source": [
    "# total"
   ]
  },
  {
   "cell_type": "code",
   "execution_count": null,
   "metadata": {},
   "outputs": [],
   "source": [
    "response"
   ]
  },
  {
   "cell_type": "code",
   "execution_count": null,
   "metadata": {},
   "outputs": [],
   "source": [
    "len(response.json()['data'])"
   ]
  },
  {
   "cell_type": "code",
   "execution_count": null,
   "metadata": {},
   "outputs": [],
   "source": [
    "response.json()['data'][0]"
   ]
  },
  {
   "cell_type": "code",
   "execution_count": null,
   "metadata": {},
   "outputs": [],
   "source": [
    "response.json()['data'][0]"
   ]
  },
  {
   "cell_type": "code",
   "execution_count": null,
   "metadata": {},
   "outputs": [],
   "source": [
    "response.json()['data'][0]['permalink']"
   ]
  },
  {
   "cell_type": "code",
   "execution_count": null,
   "metadata": {},
   "outputs": [],
   "source": [
    "response.json()['data'][0]['full_link']"
   ]
  },
  {
   "cell_type": "code",
   "execution_count": null,
   "metadata": {},
   "outputs": [],
   "source": [
    "response.json()['data'][0]['url']"
   ]
  },
  {
   "cell_type": "raw",
   "metadata": {},
   "source": [
    "if response.status_code == 200:\n",
    "    with open(natural_path / filename, 'wb') as f:\n",
    "        f.write(response.content)"
   ]
  },
  {
   "cell_type": "markdown",
   "metadata": {},
   "source": [
    "## Crawling/ Downloading Data from pushshift"
   ]
  },
  {
   "cell_type": "code",
   "execution_count": null,
   "metadata": {},
   "outputs": [],
   "source": [
    "class SubredditCrawler(object):\n",
    "    \"\"\"\n",
    "    Borrowed heavily from here: https://www.textjuicer.com/2019/07/crawling-all-submissions-from-a-subreddit/\n",
    "    \"\"\"\n",
    "\n",
    "    pushshift = \"https://api.pushshift.io/reddit/\"\n",
    "    pushshift_submission_url = pushshift + \"submission/search\"\n",
    "\n",
    "    def __init__(self, subreddit, file_path, max_submissions=200):\n",
    "        self.subreddit = subreddit\n",
    "        self.file_path = file_path\n",
    "        self.max_submissions = max_submissions\n",
    "        self.submissions = []\n",
    "\n",
    "        self.session = requests.Session()\n",
    "        self.session.mount('http://api.pushshift.io/', HTTPAdapter(max_retries=5))"
   ]
  },
  {
   "cell_type": "code",
   "execution_count": null,
   "metadata": {},
   "outputs": [],
   "source": [
    "class SubredditCrawler(SubredditCrawler):\n",
    "    def crawl_page(self, last_page=None):\n",
    "        \"\"\"\n",
    "        Crawl a page of results from a given subreddit.\n",
    "\n",
    "        :param subreddit: The subreddit to crawl.\n",
    "        :param last_page: The last downloaded page.\n",
    "\n",
    "        :return: A page or results.\n",
    "        \"\"\"\n",
    "        params = {\n",
    "            \"subreddit\": self.subreddit,\n",
    "            \"size\": 100,\n",
    "            \"sort\": \"desc\",\n",
    "            \"sort_type\": \"created_utc\",\n",
    "        }\n",
    "        if last_page is not None:\n",
    "            if len(last_page) > 0:\n",
    "                # resume from where we left at the last page\n",
    "                params[\"before\"] = last_page[-1][\"created_utc\"]\n",
    "            else:\n",
    "                # the last page was empty, we are past the last page\n",
    "                return []\n",
    "        results = self.session.get(pushshift_submission_url, params=params)\n",
    "        \n",
    "        if not results.ok:\n",
    "            # something wrong happened\n",
    "            raise Exception(\n",
    "                \"Server returned status code {}\".format(results.status_code)\n",
    "            )\n",
    "        return results.json()[\"data\"]"
   ]
  },
  {
   "cell_type": "code",
   "execution_count": null,
   "metadata": {},
   "outputs": [],
   "source": [
    "class SubredditCrawler(SubredditCrawler):\n",
    "    def crawl_subreddit(self, erase_self_submissions=False):\n",
    "        \"\"\"\n",
    "        Crawl submissions from a subreddit.\n",
    "        Isn't strictly correct on the number of submissions it grabs but doesn't matter too much\n",
    "        for our purposes\n",
    "\n",
    "        :param subreddit: The subreddit to crawl.\n",
    "        :param max_submissions: The maximum number of submissions to download.\n",
    "\n",
    "        :return: A list of submissions.\n",
    "        \"\"\"\n",
    "        last_page = None\n",
    "\n",
    "        if erase_self_submissions:\n",
    "            self.submissions = []\n",
    "\n",
    "        print(f\"Started {datetime.datetime.now()}\")\n",
    "\n",
    "        with open(self.file_path, \"wb\") as file:\n",
    "\n",
    "            while last_page != [] and len(self.submissions) < self.max_submissions:\n",
    "                last_page = self.crawl_page(last_page)\n",
    "\n",
    "                self.submissions += last_page\n",
    "                pickle.dump(last_page, file)\n",
    "                print(f\"---- pickled {len(self.submissions)} posts so far ------\")\n",
    "                print(f\"Last post title: {last_page[-1]['title']}\")\n",
    "\n",
    "                time.sleep(3)\n",
    "\n",
    "        print(f\"--------------------------------------\")\n",
    "        print(f\"Finished {datetime.datetime.now()}\")\n",
    "        print(f\"PICKLED {len(self.submissions)} SUBMISSIONS to file:\")\n",
    "        print(f\"{self.file_path}\")\n",
    "        print(f\"--------------------------------------\")"
   ]
  },
  {
   "cell_type": "raw",
   "metadata": {},
   "source": [
    "# Important to keep these two lines in the same cell so old data doesn't\n",
    "# get overwritten\n",
    "submissions_path = f'data/submissions.{int(time.time())}.pkl'\n",
    "crawler = SubredditCrawler('nattyorjuice', submissions_path, 80000)\n",
    "# 42000 posts took about 40 minutes\n",
    "\n",
    "crawler.crawl_subreddit()"
   ]
  },
  {
   "cell_type": "code",
   "execution_count": null,
   "metadata": {},
   "outputs": [],
   "source": [
    "def open_list(urls):\n",
    "    '''\n",
    "    Opens a list of urls in web browser for convenience in viewing data\n",
    "    '''\n",
    "    [webbrowser.open(url) for url in urls]"
   ]
  },
  {
   "cell_type": "code",
   "execution_count": null,
   "metadata": {},
   "outputs": [],
   "source": [
    "len(crawler.submissions)"
   ]
  },
  {
   "cell_type": "markdown",
   "metadata": {},
   "source": [
    "## Unpickling, cleaning downloaded pushshift data"
   ]
  },
  {
   "cell_type": "code",
   "execution_count": null,
   "metadata": {},
   "outputs": [],
   "source": [
    "pickled_posts = []\n",
    "with open('data/all_nattyorjuice_submissions.pkl', \"rb\") as file:\n",
    "    while 1:\n",
    "        try:\n",
    "            pickled_posts += pickle.load(file)\n",
    "        except EOFError:\n",
    "            break\n",
    "\n",
    "len(pickled_posts)"
   ]
  },
  {
   "cell_type": "markdown",
   "metadata": {},
   "source": [
    "### Remove invalid posts"
   ]
  },
  {
   "cell_type": "code",
   "execution_count": null,
   "metadata": {},
   "outputs": [],
   "source": [
    "mostly_valid = [post for post in pickled_posts if post['num_comments'] >= 2]\n",
    "len(mostly_valid)"
   ]
  },
  {
   "cell_type": "markdown",
   "metadata": {},
   "source": [
    "### Most common post link domains"
   ]
  },
  {
   "cell_type": "code",
   "execution_count": null,
   "metadata": {},
   "outputs": [],
   "source": [
    "Counter([post['domain'] for post in mostly_valid]).most_common()"
   ]
  },
  {
   "cell_type": "code",
   "execution_count": null,
   "metadata": {},
   "outputs": [],
   "source": [
    "open_list([post['full_link'] for post in mostly_valid if post['domain'] == 'reddit.com'][0:10])"
   ]
  },
  {
   "cell_type": "markdown",
   "metadata": {},
   "source": [
    "### i.redd.it posts AKA just the images"
   ]
  },
  {
   "cell_type": "code",
   "execution_count": null,
   "metadata": {},
   "outputs": [],
   "source": [
    "i_redd_it = [post for post in mostly_valid if post['domain'] == 'i.redd.it']\n",
    "len(i_redd_it)"
   ]
  },
  {
   "cell_type": "markdown",
   "metadata": {},
   "source": [
    "### Remove certain flair e.g. Meme"
   ]
  },
  {
   "cell_type": "code",
   "execution_count": null,
   "metadata": {},
   "outputs": [],
   "source": [
    "flaired = [post for post in i_redd_it if 'link_flair_text' in post]\n",
    "len(flaired)"
   ]
  },
  {
   "cell_type": "code",
   "execution_count": null,
   "metadata": {},
   "outputs": [],
   "source": [
    "Counter([post['link_flair_text'] for post in flaired]).most_common()"
   ]
  },
  {
   "cell_type": "code",
   "execution_count": null,
   "metadata": {},
   "outputs": [],
   "source": [
    "def exclude_irrelevant_posts(posts):\n",
    "    relevant_posts = []\n",
    "    for post in posts:\n",
    "        if 'link_flair_text' in post:\n",
    "            flair = post['link_flair_text']\n",
    "            if flair == 'Meme':\n",
    "                # Memes are not useful for our purposes, exclude them\n",
    "                continue\n",
    "        # Include everything else\n",
    "        relevant_posts.append(post)\n",
    "    return relevant_posts"
   ]
  },
  {
   "cell_type": "code",
   "execution_count": null,
   "metadata": {},
   "outputs": [],
   "source": [
    "pictures_no_memes = exclude_irrelevant_posts(i_redd_it)\n",
    "len(pictures_no_memes)"
   ]
  },
  {
   "cell_type": "markdown",
   "metadata": {},
   "source": [
    "### Investigate how to exclude deleted posts"
   ]
  },
  {
   "cell_type": "code",
   "execution_count": null,
   "metadata": {},
   "outputs": [],
   "source": []
  }
 ],
 "metadata": {
  "jupytext": {
   "split_at_heading": true
  },
  "kernelspec": {
   "display_name": "Python 3",
   "language": "python",
   "name": "python3"
  }
 },
 "nbformat": 4,
 "nbformat_minor": 4
}
