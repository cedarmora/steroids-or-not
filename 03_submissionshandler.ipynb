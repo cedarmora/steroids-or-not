{
 "cells": [
  {
   "cell_type": "code",
   "execution_count": null,
   "id": "43660103",
   "metadata": {},
   "outputs": [
    {
     "name": "stdout",
     "output_type": "stream",
     "text": [
      "The autoreload extension is already loaded. To reload it, use:\n",
      "  %reload_ext autoreload\n"
     ]
    }
   ],
   "source": [
    "%load_ext autoreload\n",
    "%autoreload 2"
   ]
  },
  {
   "cell_type": "code",
   "execution_count": null,
   "id": "11a4e087",
   "metadata": {},
   "outputs": [],
   "source": [
    "# default_exp submissionshandler\n",
    "# all_local"
   ]
  },
  {
   "cell_type": "code",
   "execution_count": null,
   "id": "f26321fe",
   "metadata": {},
   "outputs": [],
   "source": [
    "# export\n",
    "import pickle\n",
    "import json\n",
    "from collections import Counter\n",
    "from pprint import pprint\n",
    "import sqlite3\n",
    "from pathlib import Path\n",
    "from steroidsornot.database import Session\n",
    "from steroidsornot.submission import Submission"
   ]
  },
  {
   "cell_type": "code",
   "execution_count": null,
   "id": "37b1d2bb",
   "metadata": {},
   "outputs": [],
   "source": [
    "from fastcore.test import *"
   ]
  },
  {
   "cell_type": "markdown",
   "id": "698f5830",
   "metadata": {},
   "source": [
    "## Unpickling, cleaning downloaded pushshift data"
   ]
  },
  {
   "cell_type": "code",
   "execution_count": null,
   "id": "48339c1c",
   "metadata": {},
   "outputs": [],
   "source": [
    "# export\n",
    "class SubmissionsHandler():\n",
    "    def __init__(self, path, remove_irrelevant=True):\n",
    "        self.path = path\n",
    "        self.submissions = []\n",
    "        \n",
    "        self._unpickle(path, remove_irrelevant)\n",
    "        \n",
    "    def export_to_database(self):\n",
    "        session = Session()\n",
    "        \n",
    "        for pushshift_submission in self.submissions:\n",
    "            database_submission = Submission(\n",
    "                data=json.dumps(pushshift_submission)\n",
    "            )\n",
    "\n",
    "            session.add(database_submission)\n",
    "\n",
    "        session.commit()\n",
    "        session.close()\n",
    "    \n",
    "    def common_domains(self):\n",
    "        '''\n",
    "            Show the number of posts that link to each domain\n",
    "        '''\n",
    "        pprint(Counter([post['domain'] for post in self.submissions]).most_common())\n",
    "\n",
    "    def _unpickle(self, path, remove_irrelevant):\n",
    "        self.submissions = []\n",
    "        with open(path, \"rb\") as file:\n",
    "            while 1:\n",
    "                try:\n",
    "                    self.submissions += pickle.load(file)\n",
    "                except EOFError:\n",
    "                    break\n",
    "            \n",
    "        print(f'Unpickled {len(self.submissions)} objects.')\n",
    "        \n",
    "        if remove_irrelevant:\n",
    "            self._select_mostly_useful()\n",
    "            \n",
    "    def is_useful(self, post):\n",
    "        if (post['num_comments'] >= 2 and\n",
    "                    'selftext' in post and\n",
    "                    post['selftext'] != '[deleted]' and\n",
    "                    post['selftext'] != '[removed]' and\n",
    "                    post.get('removed_by_category') == None and\n",
    "                    post.get('link_flair_text') != 'Meme' and\n",
    "                    post.get('domain') == 'i.redd.it'):\n",
    "            return True\n",
    "        else:\n",
    "            return False\n",
    "    \n",
    "    def _select_mostly_useful(self):\n",
    "        '''\n",
    "        Remove mostly invalid posts, stuff like:\n",
    "        few comments (so no label),\n",
    "        no selftext are often not useful\n",
    "        post was deleted or removed\n",
    "\n",
    "        It's not a complete solution, as the pushshift data\n",
    "        doesn't get updated when the post changes, so there\n",
    "        are many posts which were deleted after fact.\n",
    "        '''\n",
    "        mostly_useful = []\n",
    "        for post in self.submissions:\n",
    "            if self.is_useful(post):\n",
    "                mostly_useful.append(post)\n",
    "        \n",
    "        self.submissions = mostly_useful\n",
    "        \n",
    "        print(f'{len(self.submissions)} are mostly useful.\\n')\n",
    "        \n",
    "        # Show that no posts were deleted when pushshift downloaded them\n",
    "        selftext = [post['selftext'] for post in self.submissions]\n",
    "        print('This should show no [deleted] or [removed] entries:')\n",
    "        print(Counter(selftext).most_common())"
   ]
  },
  {
   "cell_type": "code",
   "execution_count": null,
   "id": "776cbffc",
   "metadata": {},
   "outputs": [
    {
     "name": "stdout",
     "output_type": "stream",
     "text": [
      "Unpickled 41725 objects.\n",
      "16260 are mostly useful.\n",
      "\n",
      "This should show no [deleted] or [removed] entries:\n",
      "[('', 16260)]\n"
     ]
    }
   ],
   "source": [
    "submission_handler = SubmissionsHandler('data/all_nattyorjuice_submissions.pkl')"
   ]
  },
  {
   "cell_type": "code",
   "execution_count": null,
   "id": "0c45e5da",
   "metadata": {},
   "outputs": [],
   "source": [
    "test_eq(len(submission_handler.submissions), 16260)"
   ]
  },
  {
   "cell_type": "raw",
   "id": "2a8bb669",
   "metadata": {},
   "source": [
    "submission_handler.export_to_database()"
   ]
  }
 ],
 "metadata": {
  "kernelspec": {
   "display_name": "Python 3",
   "language": "python",
   "name": "python3"
  }
 },
 "nbformat": 4,
 "nbformat_minor": 5
}
