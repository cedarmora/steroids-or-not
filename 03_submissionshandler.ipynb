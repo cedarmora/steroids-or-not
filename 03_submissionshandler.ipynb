{
 "cells": [
  {
   "cell_type": "code",
   "execution_count": null,
   "id": "43660103",
   "metadata": {},
   "outputs": [],
   "source": [
    "%load_ext autoreload\n",
    "%autoreload 2"
   ]
  },
  {
   "cell_type": "code",
   "execution_count": null,
   "id": "11a4e087",
   "metadata": {},
   "outputs": [],
   "source": [
    "# default_exp submissionshandler\n",
    "# all_local"
   ]
  },
  {
   "cell_type": "code",
   "execution_count": null,
   "id": "f26321fe",
   "metadata": {},
   "outputs": [],
   "source": [
    "# export\n",
    "import praw\n",
    "import pickle\n",
    "from collections import Counter\n",
    "from pprint import pprint\n",
    "from steroidsornot.firsttry import PrawClient"
   ]
  },
  {
   "cell_type": "code",
   "execution_count": null,
   "id": "37b1d2bb",
   "metadata": {},
   "outputs": [],
   "source": [
    "from fastcore.test import *"
   ]
  },
  {
   "cell_type": "markdown",
   "id": "698f5830",
   "metadata": {},
   "source": [
    "## Unpickling, cleaning downloaded pushshift data"
   ]
  },
  {
   "cell_type": "code",
   "execution_count": null,
   "id": "48339c1c",
   "metadata": {},
   "outputs": [],
   "source": [
    "# export\n",
    "class SubmissionsHandler():\n",
    "    def __init__(self, path):\n",
    "        self.path = path\n",
    "        self.submissions = []\n",
    "        self.mostly_useful = []\n",
    "        \n",
    "        self._unpickle(path)\n",
    "        self._select_mostly_useful()\n",
    "    \n",
    "    def _unpickle(self, path):\n",
    "        self.submissions = []\n",
    "        with open(path, \"rb\") as file:\n",
    "            while 1:\n",
    "                try:\n",
    "                    self.submissions += pickle.load(file)\n",
    "                except EOFError:\n",
    "                    break\n",
    "\n",
    "        print(f'Unpickled {len(self.submissions)} objects.')\n",
    "    \n",
    "    def _select_mostly_useful(self):\n",
    "        '''\n",
    "        Remove mostly invalid posts, stuff like:\n",
    "        few comments (so no label),\n",
    "        no selftext are often not useful\n",
    "        post was deleted or removed\n",
    "\n",
    "        It's not a complete solution, as the pushshift data\n",
    "        doesn't get updated when the post changes, so there\n",
    "        are many posts which were deleted after fact.\n",
    "        '''\n",
    "        self.mostly_useful = []\n",
    "        for post in self.submissions:\n",
    "            if (post['num_comments'] >= 2 and\n",
    "                    'selftext' in post and\n",
    "                    post['selftext'] != '[deleted]' and\n",
    "                    post['selftext'] != '[removed]' and\n",
    "                    post.get('removed_by_category') == None and\n",
    "                    post.get('link_flair_text') != 'Meme' and\n",
    "                    post.get('domain') == 'i.redd.it'):\n",
    "                self.mostly_useful.append(post)\n",
    "        \n",
    "        self.mostly_useful\n",
    "        print(f'{len(self.mostly_useful)} are mostly useful.\\n')\n",
    "        \n",
    "        # Show that none are deleted\n",
    "        selftext = [post['selftext'] for post in self.mostly_useful]\n",
    "        print('This should show no [deleted] or [removed] entries:')\n",
    "        print(Counter(selftext).most_common())\n",
    "\n",
    "    def common_domains(self):\n",
    "        '''\n",
    "            Show the number of posts that link to each domain\n",
    "        '''\n",
    "        pprint(Counter([post['domain'] for post in self.submissions]).most_common())\n",
    "        "
   ]
  },
  {
   "cell_type": "code",
   "execution_count": null,
   "id": "776cbffc",
   "metadata": {},
   "outputs": [],
   "source": [
    "submission_handler = SubmissionsHandler('data/all_nattyorjuice_submissions.pkl')"
   ]
  },
  {
   "cell_type": "code",
   "execution_count": null,
   "id": "0c45e5da",
   "metadata": {},
   "outputs": [],
   "source": [
    "test_eq(len(submission_handler.mostly_useful), 16260)"
   ]
  },
  {
   "cell_type": "markdown",
   "id": "a95204d1",
   "metadata": {},
   "source": [
    "### Investigate how to exclude deleted posts"
   ]
  },
  {
   "cell_type": "code",
   "execution_count": null,
   "id": "b919a17e",
   "metadata": {},
   "outputs": [],
   "source": [
    "reddit = PrawClient().reddit()"
   ]
  },
  {
   "cell_type": "code",
   "execution_count": null,
   "id": "d2d34d8d",
   "metadata": {},
   "outputs": [],
   "source": [
    "posts = {\n",
    "    'deleted': reddit.submission(url='https://www.reddit.com/r/nattyorjuice/comments/oxsr5t/kenneth_the_ii_is_he_natty_or_juice/'),\n",
    "\n",
    "    'mod_removed': reddit.submission(url='https://www.reddit.com/r/nattyorjuice/comments/owvbpl/chul_soon/'),\n",
    "\n",
    "    'normal': reddit.submission(url='https://www.reddit.com/r/nattyorjuice/comments/p17okr/how_long_does_it_take_to_get_this_natty_physique/'),\n",
    "\n",
    "    'spam_removed': reddit.submission(url='https://www.reddit.com/r/nattyorjuice/comments/oqwkmd/55_230lbs_what_do_we_think/'),\n",
    "}"
   ]
  },
  {
   "cell_type": "code",
   "execution_count": null,
   "id": "bc8fb5db",
   "metadata": {},
   "outputs": [],
   "source": [
    "vars(posts['deleted'])\n",
    "\n",
    "vars(posts['mod_removed'])\n",
    "\n",
    "vars(posts['normal'])\n",
    "\n",
    "vars(posts['spam_removed'])"
   ]
  },
  {
   "cell_type": "markdown",
   "id": "626427d3",
   "metadata": {},
   "source": [
    "If the `removed_by_category` field on submissions is `None`, the submission has not been removed or deleted \n",
    "\n",
    "P.S. usually? The selftext is sometimes set to [removed] or [deleted] without the `removed_by_category` being set"
   ]
  }
 ],
 "metadata": {
  "kernelspec": {
   "display_name": "Python 3",
   "language": "python",
   "name": "python3"
  }
 },
 "nbformat": 4,
 "nbformat_minor": 5
}
