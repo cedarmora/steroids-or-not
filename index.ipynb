{
 "cells": [
  {
   "cell_type": "code",
   "execution_count": null,
   "metadata": {},
   "outputs": [],
   "source": [
    "#hide\n",
    "#from your_lib.core import *"
   ]
  },
  {
   "cell_type": "markdown",
   "metadata": {},
   "source": [
    "# Steroids or Not\n",
    "\n",
    "> (hopefully) A computer vision classifier that detects whether fit people have used steroids or not, using an image as input."
   ]
  },
  {
   "cell_type": "markdown",
   "metadata": {},
   "source": [
    "Built using:\n",
    "\n",
    "- Fast.AI to train the model\n",
    "- nbdev to support the workflow\n",
    "- Jupyter Notebooks for experimentation as well as final code\n",
    "- Paperspace Gradient for training hardware\n",
    "- PRAW to extract data from Reddit\n",
    "- Pushshift as a third party workaround for Reddit's limited API\n",
    "- SQLite as a database to keep data organized\n",
    "- Alembic to simplify Database interactions\n",
    "    "
   ]
  },
  {
   "cell_type": "markdown",
   "metadata": {},
   "source": [
    "## Install"
   ]
  },
  {
   "cell_type": "markdown",
   "metadata": {},
   "source": [
    "Clone this repo, then run \n",
    "\n",
    "`pip install .[dev]`\n",
    "\n",
    "`cp .sample-env .env` then fill in environment variables (so far just reddit api stuff)."
   ]
  },
  {
   "cell_type": "markdown",
   "metadata": {},
   "source": [
    "### Useful jupyter extensions"
   ]
  },
  {
   "cell_type": "markdown",
   "metadata": {},
   "source": [
    "```\n",
    "jupyter nbextension install https://github.com/drillan/jupyter-black/archive/master.zip --user\n",
    "jupyter nbextension enable jupyter-black-master/jupyter-black\n",
    "nbdime extensions --enable --user\n",
    "jupyter nbextension enable --py widgetsnbextension\n",
    "```"
   ]
  },
  {
   "cell_type": "markdown",
   "metadata": {},
   "source": [
    "## Testing"
   ]
  },
  {
   "cell_type": "markdown",
   "metadata": {},
   "source": [
    "Many tests, including those tagged `local` or `all_local` don't run on github actions because it doesn't have the data available and I haven't prioritized figuring out some fixtures. To run all the tests, run `nbdev_test_nbs --flags local`. That's what the `all_local` comments mean, they are nbdev comments."
   ]
  },
  {
   "cell_type": "markdown",
   "metadata": {},
   "source": [
    "## Database"
   ]
  },
  {
   "cell_type": "markdown",
   "metadata": {},
   "source": [
    "I think this should create the database? \n",
    "```\n",
    "import steroidsornot.database\n",
    "```\n",
    "And now migrate the database.\n",
    "```\n",
    "alembic upgrade head\n",
    "```"
   ]
  },
  {
   "cell_type": "code",
   "execution_count": null,
   "metadata": {},
   "outputs": [],
   "source": []
  }
 ],
 "metadata": {
  "kernelspec": {
   "display_name": "Python 3",
   "language": "python",
   "name": "python3"
  }
 },
 "nbformat": 4,
 "nbformat_minor": 2
}
