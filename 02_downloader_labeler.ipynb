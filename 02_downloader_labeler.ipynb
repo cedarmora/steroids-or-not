{
 "cells": [
  {
   "cell_type": "code",
   "execution_count": null,
   "id": "53fa366f",
   "metadata": {},
   "outputs": [],
   "source": [
    "%load_ext autoreload\n",
    "%autoreload 2"
   ]
  },
  {
   "cell_type": "code",
   "execution_count": null,
   "id": "8746c3f2",
   "metadata": {},
   "outputs": [],
   "source": [
    "# default_exp downloaderlabeler\n",
    "# all_local"
   ]
  },
  {
   "cell_type": "code",
   "execution_count": null,
   "id": "cdd605f1",
   "metadata": {},
   "outputs": [],
   "source": [
    "import ipywidgets as widgets\n",
    "from ipywidgets import Button, Layout\n",
    "import pickle\n",
    "import json\n",
    "from steroidsornot.submissionshandler import SubmissionsHandler\n",
    "from steroidsornot.database import Session\n",
    "from steroidsornot.submission import Submission"
   ]
  },
  {
   "cell_type": "code",
   "execution_count": null,
   "id": "8a228c86",
   "metadata": {},
   "outputs": [],
   "source": [
    "from fastcore.test import *"
   ]
  },
  {
   "cell_type": "code",
   "execution_count": null,
   "id": "f581154e",
   "metadata": {},
   "outputs": [],
   "source": [
    "class DownloaderLabeler(object):\n",
    "    def __init__(self, session):\n",
    "        self.session = session\n",
    "        self.unlabeled_submissions = session.query(Submission).filter_by(label=None)\n",
    "\n",
    "        \n",
    "        self._setup_buttons()\n",
    "        \n",
    "        self._main_loop()\n",
    "        \n",
    "    def _main_loop(self):\n",
    "        for submission in self.unlabeled_submissions:\n",
    "            data = json.loads(submission.data)\n",
    "            print(submission.id, end=' ')\n",
    "        \n",
    "        self.session.close()\n",
    "\n",
    "        \n",
    "    def _setup_buttons(self):\n",
    "        self.natural_button = Button(description='natural', layout=Layout(border = '2px solid green'))\n",
    "        self.uncertain_button = Button(description='uncertain', layout=Layout(border = '2px solid brown'))\n",
    "        self.steroids_button = Button(description='steroids', layout=Layout(border = '2px solid red'))\n",
    "        self.irrelevant_button = Button(description='irrelevant', layout=Layout(border = '2px solid khaki'))\n",
    "        self.box = widgets.HBox([self.natural_button,\n",
    "                                 self.uncertain_button,\n",
    "                                 self.steroids_button,\n",
    "                                 self.irrelevant_button,\n",
    "                                ])\n",
    "        display(self.box)       "
   ]
  },
  {
   "cell_type": "code",
   "execution_count": null,
   "id": "c182e107",
   "metadata": {},
   "outputs": [],
   "source": [
    "downloader_labeler = DownloaderLabeler(Session())"
   ]
  },
  {
   "cell_type": "code",
   "execution_count": null,
   "id": "d967eca8",
   "metadata": {},
   "outputs": [],
   "source": []
  }
 ],
 "metadata": {
  "kernelspec": {
   "display_name": "Python 3",
   "language": "python",
   "name": "python3"
  }
 },
 "nbformat": 4,
 "nbformat_minor": 5
}
