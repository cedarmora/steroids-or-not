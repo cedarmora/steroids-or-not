{
 "cells": [
  {
   "cell_type": "code",
   "execution_count": null,
   "id": "53fa366f",
   "metadata": {},
   "outputs": [],
   "source": [
    "%load_ext autoreload\n",
    "%autoreload 2"
   ]
  },
  {
   "cell_type": "code",
   "execution_count": null,
   "id": "8746c3f2",
   "metadata": {},
   "outputs": [],
   "source": [
    "# default_exp downloaderlabeler\n",
    "# all_local"
   ]
  },
  {
   "cell_type": "code",
   "execution_count": null,
   "id": "cdd605f1",
   "metadata": {},
   "outputs": [],
   "source": [
    "import ipywidgets as widgets\n",
    "from ipywidgets import Button, Layout\n",
    "import pickle\n",
    "import json\n",
    "from steroidsornot.submissionshandler import SubmissionsHandler\n",
    "from steroidsornot.database import Session\n",
    "from steroidsornot.submission import Submission\n",
    "from steroidsornot.firsttry import PrawClient"
   ]
  },
  {
   "cell_type": "code",
   "execution_count": null,
   "id": "8a228c86",
   "metadata": {},
   "outputs": [],
   "source": [
    "from fastcore.test import *"
   ]
  },
  {
   "cell_type": "code",
   "execution_count": null,
   "id": "f581154e",
   "metadata": {},
   "outputs": [],
   "source": [
    "class DownloaderLabeler(object):\n",
    "    def __init__(self, session):\n",
    "        self.session = session\n",
    "        self.unlabeled_submissions = session.query(Submission).filter_by(label=None)\n",
    "        self.reddit = PrawClient().reddit()\n",
    "\n",
    "        \n",
    "        self._setup_buttons()\n",
    "        \n",
    "        self._main_loop()\n",
    "        \n",
    "    def _main_loop(self):\n",
    "        for submission in self.unlabeled_submissions:\n",
    "            data = json.loads(submission.data)\n",
    "            reddit_submission = self.reddit.submission(url=data['full_link'])\n",
    "            print(reddit_submission.title)\n",
    "        \n",
    "        self.session.close()\n",
    "\n",
    "        \n",
    "    def _setup_buttons(self):\n",
    "        self.natural_button = Button(description='natural', layout=Layout(border = '2px solid green'))\n",
    "        self.uncertain_button = Button(description='uncertain', layout=Layout(border = '2px solid brown'))\n",
    "        self.steroids_button = Button(description='steroids', layout=Layout(border = '2px solid red'))\n",
    "        self.irrelevant_button = Button(description='irrelevant', layout=Layout(border = '2px solid khaki'))\n",
    "        self.box = widgets.HBox([self.natural_button,\n",
    "                                 self.uncertain_button,\n",
    "                                 self.steroids_button,\n",
    "                                 self.irrelevant_button,\n",
    "                                ])\n",
    "        display(self.box)       "
   ]
  },
  {
   "cell_type": "code",
   "execution_count": null,
   "id": "c182e107",
   "metadata": {},
   "outputs": [],
   "source": [
    "#downloader_labeler = DownloaderLabeler(Session())"
   ]
  },
  {
   "cell_type": "code",
   "execution_count": null,
   "id": "d967eca8",
   "metadata": {},
   "outputs": [
    {
     "name": "stdout",
     "output_type": "stream",
     "text": [
      "2021-08-18 15:34:15,192 INFO sqlalchemy.engine.Engine BEGIN (implicit)\n",
      "2021-08-18 15:34:15,201 INFO sqlalchemy.engine.Engine SELECT submission.id AS submission_id, submission.label AS submission_label, submission.data AS submission_data \n",
      "FROM submission\n",
      " LIMIT ? OFFSET ?\n",
      "2021-08-18 15:34:15,205 INFO sqlalchemy.engine.Engine [generated in 0.00353s] (1, 0)\n"
     ]
    }
   ],
   "source": [
    "session = Session()\n",
    "\n",
    "submission = session.query(Submission).limit(1).first()\n",
    "\n",
    "data = json.loads(submission.data)"
   ]
  },
  {
   "cell_type": "code",
   "execution_count": null,
   "id": "7c964925",
   "metadata": {},
   "outputs": [
    {
     "name": "stdout",
     "output_type": "stream",
     "text": [
      "Starting instance with client_id EKxTiNUwygf1WV5jlK0iew\n"
     ]
    }
   ],
   "source": [
    "reddit = PrawClient().reddit()"
   ]
  },
  {
   "cell_type": "code",
   "execution_count": null,
   "id": "6086c5c3",
   "metadata": {},
   "outputs": [
    {
     "data": {
      "text/plain": [
       "'5\\'8\", 205lbs, Claims Natty'"
      ]
     },
     "execution_count": null,
     "metadata": {},
     "output_type": "execute_result"
    }
   ],
   "source": [
    "reddit_submission = reddit.submission(url=data['full_link'])\n",
    "reddit_submission.title"
   ]
  },
  {
   "cell_type": "code",
   "execution_count": null,
   "id": "72efbd84",
   "metadata": {},
   "outputs": [],
   "source": []
  }
 ],
 "metadata": {
  "kernelspec": {
   "display_name": "Python 3",
   "language": "python",
   "name": "python3"
  }
 },
 "nbformat": 4,
 "nbformat_minor": 5
}
