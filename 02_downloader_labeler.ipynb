{
 "cells": [
  {
   "cell_type": "code",
   "execution_count": null,
   "id": "53fa366f",
   "metadata": {},
   "outputs": [],
   "source": [
    "%load_ext autoreload\n",
    "%autoreload 2"
   ]
  },
  {
   "cell_type": "code",
   "execution_count": null,
   "id": "8746c3f2",
   "metadata": {},
   "outputs": [],
   "source": [
    "# default_exp downloaderlabeler\n",
    "# all_local"
   ]
  },
  {
   "cell_type": "code",
   "execution_count": null,
   "id": "be9981d7",
   "metadata": {},
   "outputs": [
    {
     "name": "stdout",
     "output_type": "stream",
     "text": [
      "Defaulting to user installation because normal site-packages is not writeable\n",
      "Processing /home/cedar/source/steroids-or-not\n",
      "\u001b[33m  DEPRECATION: A future pip version will change local packages to be built in-place without first copying to a temporary directory. We recommend you use --use-feature=in-tree-build to test your packages with this new behavior before it becomes the default.\n",
      "   pip 21.3 will remove support for this functionality. You can find discussion regarding this at https://github.com/pypa/pip/issues/7555.\u001b[0m\n",
      "Requirement already satisfied: pip in /home/cedar/.local/lib/python3.6/site-packages (from steroidsornot==0.0.1) (21.1.3)\n",
      "Requirement already satisfied: packaging in /home/cedar/.local/lib/python3.6/site-packages (from steroidsornot==0.0.1) (21.0)\n",
      "Requirement already satisfied: praw in /home/cedar/.local/lib/python3.6/site-packages (from steroidsornot==0.0.1) (7.4.0)\n",
      "Requirement already satisfied: python-dotenv in /home/cedar/.local/lib/python3.6/site-packages (from steroidsornot==0.0.1) (0.19.0)\n",
      "Requirement already satisfied: fastai>=2.0.0 in /home/cedar/.local/lib/python3.6/site-packages (from steroidsornot==0.0.1) (2.5.1)\n",
      "Requirement already satisfied: graphviz in /home/cedar/.local/lib/python3.6/site-packages (from steroidsornot==0.0.1) (0.17)\n",
      "Requirement already satisfied: ipywidgets in /home/cedar/.local/lib/python3.6/site-packages (from steroidsornot==0.0.1) (7.6.3)\n",
      "Requirement already satisfied: matplotlib in /home/cedar/.local/lib/python3.6/site-packages (from steroidsornot==0.0.1) (3.3.4)\n",
      "Requirement already satisfied: nbdev>=1.1.21 in /home/cedar/.local/lib/python3.6/site-packages (from steroidsornot==0.0.1) (1.1.22)\n",
      "Requirement already satisfied: jedi==0.17.2 in /home/cedar/.local/lib/python3.6/site-packages (from steroidsornot==0.0.1) (0.17.2)\n",
      "Requirement already satisfied: black in /home/cedar/.local/lib/python3.6/site-packages (from steroidsornot==0.0.1) (21.7b0)\n",
      "Requirement already satisfied: nbdime in /home/cedar/.local/lib/python3.6/site-packages (from steroidsornot==0.0.1) (3.1.0)\n",
      "Requirement already satisfied: parso<0.8.0,>=0.7.0 in /home/cedar/.local/lib/python3.6/site-packages (from jedi==0.17.2->steroidsornot==0.0.1) (0.7.1)\n",
      "Requirement already satisfied: scipy in /home/cedar/.local/lib/python3.6/site-packages (from fastai>=2.0.0->steroidsornot==0.0.1) (1.5.4)\n",
      "Requirement already satisfied: torch<1.10,>=1.7.0 in /home/cedar/.local/lib/python3.6/site-packages (from fastai>=2.0.0->steroidsornot==0.0.1) (1.9.0)\n",
      "Requirement already satisfied: pyyaml in /home/cedar/.local/lib/python3.6/site-packages (from fastai>=2.0.0->steroidsornot==0.0.1) (5.4.1)\n",
      "Requirement already satisfied: requests in /usr/lib/python3/dist-packages (from fastai>=2.0.0->steroidsornot==0.0.1) (2.18.4)\n",
      "Requirement already satisfied: fastcore<1.4,>=1.3.8 in /home/cedar/.local/lib/python3.6/site-packages (from fastai>=2.0.0->steroidsornot==0.0.1) (1.3.26)\n",
      "Requirement already satisfied: scikit-learn in /home/cedar/.local/lib/python3.6/site-packages (from fastai>=2.0.0->steroidsornot==0.0.1) (0.24.2)\n",
      "Requirement already satisfied: pillow>6.0.0 in /home/cedar/.local/lib/python3.6/site-packages (from fastai>=2.0.0->steroidsornot==0.0.1) (8.3.1)\n",
      "Requirement already satisfied: pandas in /home/cedar/.local/lib/python3.6/site-packages (from fastai>=2.0.0->steroidsornot==0.0.1) (1.1.5)\n",
      "Requirement already satisfied: spacy<4 in /home/cedar/.local/lib/python3.6/site-packages (from fastai>=2.0.0->steroidsornot==0.0.1) (3.1.1)\n",
      "Requirement already satisfied: torchvision>=0.8.2 in /home/cedar/.local/lib/python3.6/site-packages (from fastai>=2.0.0->steroidsornot==0.0.1) (0.10.0)\n",
      "Requirement already satisfied: fastdownload<2,>=0.0.5 in /home/cedar/.local/lib/python3.6/site-packages (from fastai>=2.0.0->steroidsornot==0.0.1) (0.0.5)\n",
      "Requirement already satisfied: fastprogress>=0.2.4 in /home/cedar/.local/lib/python3.6/site-packages (from fastai>=2.0.0->steroidsornot==0.0.1) (1.0.0)\n",
      "Requirement already satisfied: numpy in /home/cedar/.local/lib/python3.6/site-packages (from fastprogress>=0.2.4->fastai>=2.0.0->steroidsornot==0.0.1) (1.19.5)\n",
      "Requirement already satisfied: ghapi in /home/cedar/.local/lib/python3.6/site-packages (from nbdev>=1.1.21->steroidsornot==0.0.1) (0.1.19)\n",
      "Requirement already satisfied: nbconvert<6 in /home/cedar/.local/lib/python3.6/site-packages (from nbdev>=1.1.21->steroidsornot==0.0.1) (5.6.1)\n",
      "Requirement already satisfied: ipykernel in /home/cedar/.local/lib/python3.6/site-packages (from nbdev>=1.1.21->steroidsornot==0.0.1) (5.5.5)\n",
      "Requirement already satisfied: fastrelease in /home/cedar/.local/lib/python3.6/site-packages (from nbdev>=1.1.21->steroidsornot==0.0.1) (0.1.11)\n",
      "Requirement already satisfied: nbformat>=4.4.0 in /home/cedar/.local/lib/python3.6/site-packages (from nbdev>=1.1.21->steroidsornot==0.0.1) (5.1.3)\n",
      "Requirement already satisfied: jupyter in /home/cedar/.local/lib/python3.6/site-packages (from nbdev>=1.1.21->steroidsornot==0.0.1) (1.0.0)\n",
      "Requirement already satisfied: defusedxml in /home/cedar/.local/lib/python3.6/site-packages (from nbconvert<6->nbdev>=1.1.21->steroidsornot==0.0.1) (0.7.1)\n",
      "Requirement already satisfied: mistune<2,>=0.8.1 in /home/cedar/.local/lib/python3.6/site-packages (from nbconvert<6->nbdev>=1.1.21->steroidsornot==0.0.1) (0.8.4)\n",
      "Requirement already satisfied: entrypoints>=0.2.2 in /home/cedar/.local/lib/python3.6/site-packages (from nbconvert<6->nbdev>=1.1.21->steroidsornot==0.0.1) (0.3)\n",
      "Requirement already satisfied: traitlets>=4.2 in /home/cedar/.local/lib/python3.6/site-packages (from nbconvert<6->nbdev>=1.1.21->steroidsornot==0.0.1) (4.3.3)\n",
      "Requirement already satisfied: pygments in /home/cedar/.local/lib/python3.6/site-packages (from nbconvert<6->nbdev>=1.1.21->steroidsornot==0.0.1) (2.9.0)\n",
      "Requirement already satisfied: jinja2>=2.4 in /home/cedar/.local/lib/python3.6/site-packages (from nbconvert<6->nbdev>=1.1.21->steroidsornot==0.0.1) (3.0.1)\n",
      "Requirement already satisfied: testpath in /home/cedar/.local/lib/python3.6/site-packages (from nbconvert<6->nbdev>=1.1.21->steroidsornot==0.0.1) (0.5.0)\n",
      "Requirement already satisfied: bleach in /home/cedar/.local/lib/python3.6/site-packages (from nbconvert<6->nbdev>=1.1.21->steroidsornot==0.0.1) (3.3.1)\n",
      "Requirement already satisfied: jupyter-core in /home/cedar/.local/lib/python3.6/site-packages (from nbconvert<6->nbdev>=1.1.21->steroidsornot==0.0.1) (4.7.1)\n",
      "Requirement already satisfied: pandocfilters>=1.4.1 in /home/cedar/.local/lib/python3.6/site-packages (from nbconvert<6->nbdev>=1.1.21->steroidsornot==0.0.1) (1.4.3)\n",
      "Requirement already satisfied: MarkupSafe>=2.0 in /home/cedar/.local/lib/python3.6/site-packages (from jinja2>=2.4->nbconvert<6->nbdev>=1.1.21->steroidsornot==0.0.1) (2.0.1)\n",
      "Requirement already satisfied: ipython-genutils in /home/cedar/.local/lib/python3.6/site-packages (from nbformat>=4.4.0->nbdev>=1.1.21->steroidsornot==0.0.1) (0.2.0)\n",
      "Requirement already satisfied: jsonschema!=2.5.0,>=2.4 in /home/cedar/.local/lib/python3.6/site-packages (from nbformat>=4.4.0->nbdev>=1.1.21->steroidsornot==0.0.1) (3.2.0)\n",
      "Requirement already satisfied: importlib-metadata in /home/cedar/.local/lib/python3.6/site-packages (from jsonschema!=2.5.0,>=2.4->nbformat>=4.4.0->nbdev>=1.1.21->steroidsornot==0.0.1) (4.6.1)\n",
      "Requirement already satisfied: setuptools in /home/cedar/.local/lib/python3.6/site-packages (from jsonschema!=2.5.0,>=2.4->nbformat>=4.4.0->nbdev>=1.1.21->steroidsornot==0.0.1) (57.4.0)\n",
      "Requirement already satisfied: pyrsistent>=0.14.0 in /home/cedar/.local/lib/python3.6/site-packages (from jsonschema!=2.5.0,>=2.4->nbformat>=4.4.0->nbdev>=1.1.21->steroidsornot==0.0.1) (0.18.0)\n",
      "Requirement already satisfied: attrs>=17.4.0 in /home/cedar/.local/lib/python3.6/site-packages (from jsonschema!=2.5.0,>=2.4->nbformat>=4.4.0->nbdev>=1.1.21->steroidsornot==0.0.1) (21.2.0)\n",
      "Requirement already satisfied: six>=1.11.0 in /home/cedar/.local/lib/python3.6/site-packages (from jsonschema!=2.5.0,>=2.4->nbformat>=4.4.0->nbdev>=1.1.21->steroidsornot==0.0.1) (1.16.0)\n",
      "Requirement already satisfied: murmurhash<1.1.0,>=0.28.0 in /home/cedar/.local/lib/python3.6/site-packages (from spacy<4->fastai>=2.0.0->steroidsornot==0.0.1) (1.0.5)\n",
      "Requirement already satisfied: catalogue<2.1.0,>=2.0.4 in /home/cedar/.local/lib/python3.6/site-packages (from spacy<4->fastai>=2.0.0->steroidsornot==0.0.1) (2.0.4)\n",
      "Requirement already satisfied: typer<0.4.0,>=0.3.0 in /home/cedar/.local/lib/python3.6/site-packages (from spacy<4->fastai>=2.0.0->steroidsornot==0.0.1) (0.3.2)\n",
      "Requirement already satisfied: spacy-legacy<3.1.0,>=3.0.7 in /home/cedar/.local/lib/python3.6/site-packages (from spacy<4->fastai>=2.0.0->steroidsornot==0.0.1) (3.0.8)\n",
      "Requirement already satisfied: typing-extensions<4.0.0.0,>=3.7.4 in /home/cedar/.local/lib/python3.6/site-packages (from spacy<4->fastai>=2.0.0->steroidsornot==0.0.1) (3.10.0.0)\n",
      "Requirement already satisfied: cymem<2.1.0,>=2.0.2 in /home/cedar/.local/lib/python3.6/site-packages (from spacy<4->fastai>=2.0.0->steroidsornot==0.0.1) (2.0.5)\n",
      "Requirement already satisfied: pathy>=0.3.5 in /home/cedar/.local/lib/python3.6/site-packages (from spacy<4->fastai>=2.0.0->steroidsornot==0.0.1) (0.6.0)\n",
      "Requirement already satisfied: blis<0.8.0,>=0.4.0 in /home/cedar/.local/lib/python3.6/site-packages (from spacy<4->fastai>=2.0.0->steroidsornot==0.0.1) (0.7.4)\n",
      "Requirement already satisfied: srsly<3.0.0,>=2.4.1 in /home/cedar/.local/lib/python3.6/site-packages (from spacy<4->fastai>=2.0.0->steroidsornot==0.0.1) (2.4.1)\n",
      "Requirement already satisfied: preshed<3.1.0,>=3.0.2 in /home/cedar/.local/lib/python3.6/site-packages (from spacy<4->fastai>=2.0.0->steroidsornot==0.0.1) (3.0.5)\n",
      "Requirement already satisfied: pydantic!=1.8,!=1.8.1,<1.9.0,>=1.7.4 in /home/cedar/.local/lib/python3.6/site-packages (from spacy<4->fastai>=2.0.0->steroidsornot==0.0.1) (1.8.2)\n",
      "Requirement already satisfied: tqdm<5.0.0,>=4.38.0 in /home/cedar/.local/lib/python3.6/site-packages (from spacy<4->fastai>=2.0.0->steroidsornot==0.0.1) (4.62.0)\n",
      "Requirement already satisfied: thinc<8.1.0,>=8.0.8 in /home/cedar/.local/lib/python3.6/site-packages (from spacy<4->fastai>=2.0.0->steroidsornot==0.0.1) (8.0.8)\n",
      "Requirement already satisfied: wasabi<1.1.0,>=0.8.1 in /home/cedar/.local/lib/python3.6/site-packages (from spacy<4->fastai>=2.0.0->steroidsornot==0.0.1) (0.8.2)\n"
     ]
    },
    {
     "name": "stdout",
     "output_type": "stream",
     "text": [
      "Requirement already satisfied: zipp>=0.5 in /home/cedar/.local/lib/python3.6/site-packages (from catalogue<2.1.0,>=2.0.4->spacy<4->fastai>=2.0.0->steroidsornot==0.0.1) (3.5.0)\n",
      "Requirement already satisfied: pyparsing>=2.0.2 in /home/cedar/.local/lib/python3.6/site-packages (from packaging->steroidsornot==0.0.1) (2.4.7)\n",
      "Requirement already satisfied: dataclasses<1.0,>=0.6 in /home/cedar/.local/lib/python3.6/site-packages (from pathy>=0.3.5->spacy<4->fastai>=2.0.0->steroidsornot==0.0.1) (0.8)\n",
      "Requirement already satisfied: smart-open<6.0.0,>=5.0.0 in /home/cedar/.local/lib/python3.6/site-packages (from pathy>=0.3.5->spacy<4->fastai>=2.0.0->steroidsornot==0.0.1) (5.1.0)\n",
      "Requirement already satisfied: contextvars<3,>=2.4 in /home/cedar/.local/lib/python3.6/site-packages (from thinc<8.1.0,>=8.0.8->spacy<4->fastai>=2.0.0->steroidsornot==0.0.1) (2.4)\n",
      "Requirement already satisfied: immutables>=0.9 in /home/cedar/.local/lib/python3.6/site-packages (from contextvars<3,>=2.4->thinc<8.1.0,>=8.0.8->spacy<4->fastai>=2.0.0->steroidsornot==0.0.1) (0.15)\n",
      "Requirement already satisfied: decorator in /home/cedar/.local/lib/python3.6/site-packages (from traitlets>=4.2->nbconvert<6->nbdev>=1.1.21->steroidsornot==0.0.1) (5.0.9)\n",
      "Requirement already satisfied: click<7.2.0,>=7.1.1 in /home/cedar/.local/lib/python3.6/site-packages (from typer<0.4.0,>=0.3.0->spacy<4->fastai>=2.0.0->steroidsornot==0.0.1) (7.1.2)\n",
      "Requirement already satisfied: regex>=2020.1.8 in /home/cedar/.local/lib/python3.6/site-packages (from black->steroidsornot==0.0.1) (2021.8.3)\n",
      "Requirement already satisfied: appdirs in /home/cedar/.local/lib/python3.6/site-packages (from black->steroidsornot==0.0.1) (1.4.4)\n",
      "Requirement already satisfied: mypy-extensions>=0.4.3 in /home/cedar/.local/lib/python3.6/site-packages (from black->steroidsornot==0.0.1) (0.4.3)\n",
      "Requirement already satisfied: pathspec<1,>=0.8.1 in /home/cedar/.local/lib/python3.6/site-packages (from black->steroidsornot==0.0.1) (0.9.0)\n",
      "Requirement already satisfied: typed-ast>=1.4.2 in /home/cedar/.local/lib/python3.6/site-packages (from black->steroidsornot==0.0.1) (1.4.3)\n",
      "Requirement already satisfied: tomli<2.0.0,>=0.2.6 in /home/cedar/.local/lib/python3.6/site-packages (from black->steroidsornot==0.0.1) (1.2.1)\n",
      "Requirement already satisfied: webencodings in /home/cedar/.local/lib/python3.6/site-packages (from bleach->nbconvert<6->nbdev>=1.1.21->steroidsornot==0.0.1) (0.5.1)\n",
      "Requirement already satisfied: ipython>=5.0.0 in /home/cedar/.local/lib/python3.6/site-packages (from ipykernel->nbdev>=1.1.21->steroidsornot==0.0.1) (7.16.1)\n",
      "Requirement already satisfied: jupyter-client in /home/cedar/.local/lib/python3.6/site-packages (from ipykernel->nbdev>=1.1.21->steroidsornot==0.0.1) (6.1.12)\n",
      "Requirement already satisfied: tornado>=4.2 in /home/cedar/.local/lib/python3.6/site-packages (from ipykernel->nbdev>=1.1.21->steroidsornot==0.0.1) (6.1)\n",
      "Requirement already satisfied: backcall in /home/cedar/.local/lib/python3.6/site-packages (from ipython>=5.0.0->ipykernel->nbdev>=1.1.21->steroidsornot==0.0.1) (0.2.0)\n",
      "Requirement already satisfied: prompt-toolkit!=3.0.0,!=3.0.1,<3.1.0,>=2.0.0 in /home/cedar/.local/lib/python3.6/site-packages (from ipython>=5.0.0->ipykernel->nbdev>=1.1.21->steroidsornot==0.0.1) (3.0.19)\n",
      "Requirement already satisfied: pexpect in /home/cedar/.local/lib/python3.6/site-packages (from ipython>=5.0.0->ipykernel->nbdev>=1.1.21->steroidsornot==0.0.1) (4.8.0)\n",
      "Requirement already satisfied: pickleshare in /home/cedar/.local/lib/python3.6/site-packages (from ipython>=5.0.0->ipykernel->nbdev>=1.1.21->steroidsornot==0.0.1) (0.7.5)\n",
      "Requirement already satisfied: wcwidth in /home/cedar/.local/lib/python3.6/site-packages (from prompt-toolkit!=3.0.0,!=3.0.1,<3.1.0,>=2.0.0->ipython>=5.0.0->ipykernel->nbdev>=1.1.21->steroidsornot==0.0.1) (0.2.5)\n",
      "Requirement already satisfied: widgetsnbextension~=3.5.0 in /home/cedar/.local/lib/python3.6/site-packages (from ipywidgets->steroidsornot==0.0.1) (3.5.1)\n",
      "Requirement already satisfied: jupyterlab-widgets>=1.0.0 in /home/cedar/.local/lib/python3.6/site-packages (from ipywidgets->steroidsornot==0.0.1) (1.0.0)\n",
      "Requirement already satisfied: notebook>=4.4.1 in /home/cedar/.local/lib/python3.6/site-packages (from widgetsnbextension~=3.5.0->ipywidgets->steroidsornot==0.0.1) (6.4.0)\n",
      "Requirement already satisfied: pyzmq>=17 in /home/cedar/.local/lib/python3.6/site-packages (from notebook>=4.4.1->widgetsnbextension~=3.5.0->ipywidgets->steroidsornot==0.0.1) (22.1.0)\n",
      "Requirement already satisfied: argon2-cffi in /home/cedar/.local/lib/python3.6/site-packages (from notebook>=4.4.1->widgetsnbextension~=3.5.0->ipywidgets->steroidsornot==0.0.1) (20.1.0)\n",
      "Requirement already satisfied: prometheus-client in /home/cedar/.local/lib/python3.6/site-packages (from notebook>=4.4.1->widgetsnbextension~=3.5.0->ipywidgets->steroidsornot==0.0.1) (0.11.0)\n",
      "Requirement already satisfied: terminado>=0.8.3 in /home/cedar/.local/lib/python3.6/site-packages (from notebook>=4.4.1->widgetsnbextension~=3.5.0->ipywidgets->steroidsornot==0.0.1) (0.10.1)\n",
      "Requirement already satisfied: Send2Trash>=1.5.0 in /home/cedar/.local/lib/python3.6/site-packages (from notebook>=4.4.1->widgetsnbextension~=3.5.0->ipywidgets->steroidsornot==0.0.1) (1.7.1)\n",
      "Requirement already satisfied: python-dateutil>=2.1 in /home/cedar/.local/lib/python3.6/site-packages (from jupyter-client->ipykernel->nbdev>=1.1.21->steroidsornot==0.0.1) (2.8.2)\n",
      "Requirement already satisfied: ptyprocess in /home/cedar/.local/lib/python3.6/site-packages (from terminado>=0.8.3->notebook>=4.4.1->widgetsnbextension~=3.5.0->ipywidgets->steroidsornot==0.0.1) (0.7.0)\n",
      "Requirement already satisfied: cffi>=1.0.0 in /home/cedar/.local/lib/python3.6/site-packages (from argon2-cffi->notebook>=4.4.1->widgetsnbextension~=3.5.0->ipywidgets->steroidsornot==0.0.1) (1.14.6)\n",
      "Requirement already satisfied: pycparser in /home/cedar/.local/lib/python3.6/site-packages (from cffi>=1.0.0->argon2-cffi->notebook>=4.4.1->widgetsnbextension~=3.5.0->ipywidgets->steroidsornot==0.0.1) (2.20)\n",
      "Requirement already satisfied: jupyter-console in /home/cedar/.local/lib/python3.6/site-packages (from jupyter->nbdev>=1.1.21->steroidsornot==0.0.1) (6.4.0)\n",
      "Requirement already satisfied: qtconsole in /home/cedar/.local/lib/python3.6/site-packages (from jupyter->nbdev>=1.1.21->steroidsornot==0.0.1) (5.1.1)\n",
      "Requirement already satisfied: kiwisolver>=1.0.1 in /home/cedar/.local/lib/python3.6/site-packages (from matplotlib->steroidsornot==0.0.1) (1.3.1)\n",
      "Requirement already satisfied: cycler>=0.10 in /home/cedar/.local/lib/python3.6/site-packages (from matplotlib->steroidsornot==0.0.1) (0.10.0)\n",
      "Requirement already satisfied: jupyter-server in /home/cedar/.local/lib/python3.6/site-packages (from nbdime->steroidsornot==0.0.1) (1.10.0)\n",
      "Requirement already satisfied: GitPython!=2.1.4,!=2.1.5,!=2.1.6 in /home/cedar/.local/lib/python3.6/site-packages (from nbdime->steroidsornot==0.0.1) (3.1.18)\n",
      "Requirement already satisfied: jupyter-server-mathjax>=0.2.2 in /home/cedar/.local/lib/python3.6/site-packages (from nbdime->steroidsornot==0.0.1) (0.2.3)\n",
      "Requirement already satisfied: colorama in /usr/lib/python3/dist-packages (from nbdime->steroidsornot==0.0.1) (0.3.7)\n",
      "Requirement already satisfied: gitdb<5,>=4.0.1 in /home/cedar/.local/lib/python3.6/site-packages (from GitPython!=2.1.4,!=2.1.5,!=2.1.6->nbdime->steroidsornot==0.0.1) (4.0.7)\n",
      "Requirement already satisfied: smmap<5,>=3.0.1 in /home/cedar/.local/lib/python3.6/site-packages (from gitdb<5,>=4.0.1->GitPython!=2.1.4,!=2.1.5,!=2.1.6->nbdime->steroidsornot==0.0.1) (4.0.0)\n",
      "Requirement already satisfied: anyio<4,>=3.1.0 in /home/cedar/.local/lib/python3.6/site-packages (from jupyter-server->nbdime->steroidsornot==0.0.1) (3.3.0)\n",
      "Requirement already satisfied: websocket-client in /home/cedar/.local/lib/python3.6/site-packages (from jupyter-server->nbdime->steroidsornot==0.0.1) (1.1.0)\n",
      "Requirement already satisfied: requests-unixsocket in /usr/lib/python3/dist-packages (from jupyter-server->nbdime->steroidsornot==0.0.1) (0.1.5)\n",
      "Requirement already satisfied: idna>=2.8 in /home/cedar/.local/lib/python3.6/site-packages (from anyio<4,>=3.1.0->jupyter-server->nbdime->steroidsornot==0.0.1) (3.2)\n",
      "Requirement already satisfied: sniffio>=1.1 in /home/cedar/.local/lib/python3.6/site-packages (from anyio<4,>=3.1.0->jupyter-server->nbdime->steroidsornot==0.0.1) (1.2.0)\n"
     ]
    },
    {
     "name": "stdout",
     "output_type": "stream",
     "text": [
      "Requirement already satisfied: pytz>=2017.2 in /usr/lib/python3/dist-packages (from pandas->fastai>=2.0.0->steroidsornot==0.0.1) (2018.3)\n",
      "Requirement already satisfied: prawcore<3,>=2.1 in /home/cedar/.local/lib/python3.6/site-packages (from praw->steroidsornot==0.0.1) (2.3.0)\n",
      "Requirement already satisfied: update-checker>=0.18 in /home/cedar/.local/lib/python3.6/site-packages (from praw->steroidsornot==0.0.1) (0.18.0)\n",
      "Requirement already satisfied: qtpy in /home/cedar/.local/lib/python3.6/site-packages (from qtconsole->jupyter->nbdev>=1.1.21->steroidsornot==0.0.1) (1.9.0)\n",
      "Requirement already satisfied: joblib>=0.11 in /home/cedar/.local/lib/python3.6/site-packages (from scikit-learn->fastai>=2.0.0->steroidsornot==0.0.1) (1.0.1)\n",
      "Requirement already satisfied: threadpoolctl>=2.0.0 in /home/cedar/.local/lib/python3.6/site-packages (from scikit-learn->fastai>=2.0.0->steroidsornot==0.0.1) (2.2.0)\n",
      "Building wheels for collected packages: steroidsornot\n",
      "  Building wheel for steroidsornot (setup.py) ... \u001b[?25ldone\n",
      "\u001b[?25h  Created wheel for steroidsornot: filename=steroidsornot-0.0.1-py3-none-any.whl size=7143 sha256=964bf99e73135f29e72766068c38bc753d16b348885b513719a617a17d6f47e9\n",
      "  Stored in directory: /home/cedar/.cache/pip/wheels/8b/e8/f0/812780b69e692fdae0be65743cbacdc466f0d0c0cc3446797e\n",
      "Successfully built steroidsornot\n",
      "Installing collected packages: steroidsornot\n",
      "  Attempting uninstall: steroidsornot\n",
      "    Found existing installation: steroidsornot 0.0.1\n",
      "    Uninstalling steroidsornot-0.0.1:\n",
      "      Successfully uninstalled steroidsornot-0.0.1\n",
      "Successfully installed steroidsornot-0.0.1\n",
      "\u001b[33mWARNING: You are using pip version 21.1.3; however, version 21.2.3 is available.\n",
      "You should consider upgrading via the '/usr/bin/python3 -m pip install --upgrade pip' command.\u001b[0m\n"
     ]
    }
   ],
   "source": [
    "!pip install .[dev]"
   ]
  },
  {
   "cell_type": "code",
   "execution_count": null,
   "id": "864abd9a",
   "metadata": {},
   "outputs": [
    {
     "name": "stdout",
     "output_type": "stream",
     "text": [
      "Enabling notebook extension jupyter-js-widgets/extension...\r\n",
      "      - Validating: \u001b[32mOK\u001b[0m\r\n"
     ]
    }
   ],
   "source": [
    "!jupyter nbextension enable --py widgetsnbextension"
   ]
  },
  {
   "cell_type": "code",
   "execution_count": null,
   "id": "cdd605f1",
   "metadata": {},
   "outputs": [],
   "source": [
    "import ipywidgets as widgets\n",
    "from ipywidgets import Button, Layout\n",
    "import pickle\n",
    "from steroidsornot.submissionshandler import SubmissionsHandler"
   ]
  },
  {
   "cell_type": "code",
   "execution_count": null,
   "id": "8a228c86",
   "metadata": {},
   "outputs": [],
   "source": [
    "from fastcore.test import *"
   ]
  },
  {
   "cell_type": "code",
   "execution_count": null,
   "id": "f581154e",
   "metadata": {},
   "outputs": [],
   "source": [
    "class DownloaderLabeler():\n",
    "    def __init__(self, path):\n",
    "        self.submissions_handler = SubmissionsHandler(path)\n",
    "        \n",
    "        self._setup_buttons()\n",
    "        \n",
    "        self._main_loop()\n",
    "        \n",
    "    def _main_loop(self):\n",
    "        pass\n",
    "        \n",
    "    def _next_submission():\n",
    "        pass\n",
    "\n",
    "        \n",
    "    def _setup_buttons(self):\n",
    "        self.natural_button = Button(description='natural', layout=Layout(border = '2px solid green'))\n",
    "        self.uncertain_button = Button(description='uncertain', layout=Layout(border = '2px solid brown'))\n",
    "        self.steroids_button = Button(description='steroids', layout=Layout(border = '2px solid red'))\n",
    "        self.irrelevant_button = Button(description='irrelevant', layout=Layout(border = '2px solid khaki'))\n",
    "        self.box = widgets.HBox([self.natural_button,\n",
    "                                 self.uncertain_button,\n",
    "                                 self.steroids_button,\n",
    "                                 self.irrelevant_button,\n",
    "                                ])\n",
    "        display(self.box)       "
   ]
  },
  {
   "cell_type": "code",
   "execution_count": null,
   "id": "c182e107",
   "metadata": {},
   "outputs": [
    {
     "name": "stdout",
     "output_type": "stream",
     "text": [
      "Unpickled 41725 objects.\n",
      "16260 are mostly useful.\n",
      "\n",
      "This should show no [deleted] or [removed] entries:\n",
      "[('', 16260)]\n"
     ]
    },
    {
     "data": {
      "application/vnd.jupyter.widget-view+json": {
       "model_id": "f7a7978dacae4ec18ec9d09e678f453f",
       "version_major": 2,
       "version_minor": 0
      },
      "text/plain": [
       "HBox(children=(Button(description='natural', layout=Layout(border='2px solid green'), style=ButtonStyle()), Bu…"
      ]
     },
     "metadata": {},
     "output_type": "display_data"
    }
   ],
   "source": [
    "downloader_labeler = DownloaderLabeler('data/downloader.pkl')"
   ]
  },
  {
   "cell_type": "code",
   "execution_count": null,
   "id": "279d737f",
   "metadata": {},
   "outputs": [
    {
     "ename": "AttributeError",
     "evalue": "'dict' object has no attribute 'json'",
     "output_type": "error",
     "traceback": [
      "\u001b[0;31m---------------------------------------------------------------------------\u001b[0m",
      "\u001b[0;31mAttributeError\u001b[0m                            Traceback (most recent call last)",
      "\u001b[0;32m<ipython-input-27-3ab5df675c3f>\u001b[0m in \u001b[0;36m<module>\u001b[0;34m\u001b[0m\n\u001b[0;32m----> 1\u001b[0;31m \u001b[0mdownloader_labeler\u001b[0m\u001b[0;34m.\u001b[0m\u001b[0msubmissions_handler\u001b[0m\u001b[0;34m.\u001b[0m\u001b[0msubmissions\u001b[0m\u001b[0;34m[\u001b[0m\u001b[0;36m0\u001b[0m\u001b[0;34m]\u001b[0m\u001b[0;34m.\u001b[0m\u001b[0mjson\u001b[0m\u001b[0;34m(\u001b[0m\u001b[0;34m)\u001b[0m\u001b[0;34m\u001b[0m\u001b[0;34m\u001b[0m\u001b[0m\n\u001b[0m",
      "\u001b[0;31mAttributeError\u001b[0m: 'dict' object has no attribute 'json'"
     ]
    }
   ],
   "source": [
    "downloader_labeler.submissions_handler.submissions[0].json()"
   ]
  },
  {
   "cell_type": "code",
   "execution_count": null,
   "id": "70b4162c",
   "metadata": {},
   "outputs": [],
   "source": []
  }
 ],
 "metadata": {
  "kernelspec": {
   "display_name": "Python 3",
   "language": "python",
   "name": "python3"
  }
 },
 "nbformat": 4,
 "nbformat_minor": 5
}
