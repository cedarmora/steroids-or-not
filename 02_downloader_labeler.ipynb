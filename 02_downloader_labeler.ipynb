{
 "cells": [
  {
   "cell_type": "code",
   "execution_count": null,
   "id": "53fa366f",
   "metadata": {},
   "outputs": [],
   "source": [
    "%load_ext autoreload\n",
    "%autoreload 2"
   ]
  },
  {
   "cell_type": "code",
   "execution_count": null,
   "id": "8746c3f2",
   "metadata": {},
   "outputs": [],
   "source": [
    "# default_exp downloaderlabeler\n",
    "# all_local"
   ]
  },
  {
   "cell_type": "code",
   "execution_count": null,
   "id": "cdd605f1",
   "metadata": {},
   "outputs": [],
   "source": [
    "import ipywidgets as widgets\n",
    "from ipywidgets import Button, Layout\n",
    "import pickle\n",
    "from steroidsornot.submissionshandler import SubmissionsHandler"
   ]
  },
  {
   "cell_type": "code",
   "execution_count": null,
   "id": "8a228c86",
   "metadata": {},
   "outputs": [],
   "source": [
    "from fastcore.test import *"
   ]
  },
  {
   "cell_type": "code",
   "execution_count": null,
   "id": "f581154e",
   "metadata": {},
   "outputs": [],
   "source": [
    "class DownloaderLabeler():\n",
    "    def __init__(self, path):\n",
    "        self.submissions_handler = SubmissionsHandler(path)\n",
    "        \n",
    "        self._setup_buttons()\n",
    "        \n",
    "        self._main_loop()\n",
    "        \n",
    "    def _main_loop(self):\n",
    "        pass\n",
    "        \n",
    "    def _next_submission():\n",
    "        pass\n",
    "\n",
    "        \n",
    "    def _setup_buttons(self):\n",
    "        self.natural_button = Button(description='natural', layout=Layout(border = '2px solid green'))\n",
    "        self.uncertain_button = Button(description='uncertain', layout=Layout(border = '2px solid brown'))\n",
    "        self.steroids_button = Button(description='steroids', layout=Layout(border = '2px solid red'))\n",
    "        self.irrelevant_button = Button(description='irrelevant', layout=Layout(border = '2px solid khaki'))\n",
    "        self.box = widgets.HBox([self.natural_button,\n",
    "                                 self.uncertain_button,\n",
    "                                 self.steroids_button,\n",
    "                                 self.irrelevant_button,\n",
    "                                ])\n",
    "        display(self.box)       "
   ]
  },
  {
   "cell_type": "code",
   "execution_count": null,
   "id": "c182e107",
   "metadata": {},
   "outputs": [],
   "source": [
    "downloader_labeler = DownloaderLabeler('data/downloader.pkl')"
   ]
  },
  {
   "cell_type": "code",
   "execution_count": null,
   "id": "279d737f",
   "metadata": {},
   "outputs": [],
   "source": [
    "downloader_labeler.submissions_handler.submissions[0]"
   ]
  },
  {
   "cell_type": "code",
   "execution_count": null,
   "id": "70b4162c",
   "metadata": {},
   "outputs": [],
   "source": []
  }
 ],
 "metadata": {
  "kernelspec": {
   "display_name": "Python 3",
   "language": "python",
   "name": "python3"
  }
 },
 "nbformat": 4,
 "nbformat_minor": 5
}
