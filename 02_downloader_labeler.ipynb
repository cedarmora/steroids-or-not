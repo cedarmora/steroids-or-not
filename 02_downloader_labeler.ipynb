{
 "cells": [
  {
   "cell_type": "code",
   "execution_count": null,
   "id": "53fa366f",
   "metadata": {},
   "outputs": [],
   "source": [
    "%load_ext autoreload\n",
    "%autoreload 2"
   ]
  },
  {
   "cell_type": "code",
   "execution_count": null,
   "id": "8746c3f2",
   "metadata": {},
   "outputs": [],
   "source": [
    "# default_exp downloaderlabeler\n",
    "# all_slow"
   ]
  },
  {
   "cell_type": "code",
   "execution_count": null,
   "id": "cdd605f1",
   "metadata": {},
   "outputs": [],
   "source": [
    "import ipywidgets as widgets\n",
    "from ipywidgets import Button, Layout\n",
    "import pickle\n",
    "import json\n",
    "import webbrowser\n",
    "from steroidsornot.submissionshandler import SubmissionsHandler\n",
    "from steroidsornot.database import Session\n",
    "from steroidsornot.submission import Submission\n",
    "from steroidsornot.firsttry import PrawClient, get_thumbnail, natural_path, steroids_path, uncertain_path, irrelevant_path"
   ]
  },
  {
   "cell_type": "code",
   "execution_count": null,
   "id": "8a228c86",
   "metadata": {},
   "outputs": [],
   "source": [
    "from fastcore.test import *"
   ]
  },
  {
   "cell_type": "code",
   "execution_count": null,
   "id": "f581154e",
   "metadata": {},
   "outputs": [],
   "source": [
    "class DownloaderLabeler(object):\n",
    "    def __init__(self, session):\n",
    "        self.session = session\n",
    "        self.unlabeled_submissions = session.query(Submission).filter_by(label=None)\n",
    "        left = self.unlabeled_submissions.count()\n",
    "        print(f'-----------------------------------')\n",
    "        print(f'{left} MORE TO GO')\n",
    "        print(f'-----------------------------------')\n",
    "        self.reddit = PrawClient().reddit()\n",
    "        self.submissions_handler = SubmissionsHandler()\n",
    "        \n",
    "        self._main_loop()\n",
    "        \n",
    "    def _main_loop(self):\n",
    "        count = 0\n",
    "        for pushshift_submission in self.unlabeled_submissions:\n",
    "            data = json.loads(pushshift_submission.data)\n",
    "            reddit_submission = self.reddit.submission(url=data['full_link'])\n",
    "            reddit_submission.title # Make it load (lazy butt)\n",
    "\n",
    "            if not self.submissions_handler.is_useful(vars(reddit_submission)):\n",
    "                # Submission isn't useful, label it as so and skip it.\n",
    "                print(f'AUTOREMOVED https://reddit.com{reddit_submission.permalink}')\n",
    "                pushshift_submission.label = 'autoremoved'\n",
    "                self.session.add(pushshift_submission)\n",
    "                self.session.commit()\n",
    "                count +=1\n",
    "                continue\n",
    "            \n",
    "            print(f'GETTING {data[\"full_link\"]}')\n",
    "            webbrowser.open(data['full_link'])\n",
    "            \n",
    "            response, filename = get_thumbnail(reddit_submission)\n",
    "        \n",
    "            if response.status_code == 200:\n",
    "                quit = self._label(reddit_submission, pushshift_submission, response, filename)\n",
    "                if quit:\n",
    "                    left = self.session.query(Submission).filter_by(label=None).count()\n",
    "                    print(f'-----------------------------------')\n",
    "                    print(f'SUCCESSFULLY LABELED {count} IMAGES')\n",
    "                    print(f'{left} MORE TO GO')\n",
    "                    print(f'-----------------------------------')\n",
    "                    break\n",
    "                else:\n",
    "                    count += 1\n",
    "        \n",
    "        self.session.close()\n",
    "        \n",
    "    def _label(self, reddit_submission, pushshift_submission,response, filename):\n",
    "        directories = {\n",
    "            'n': natural_path,\n",
    "            's': steroids_path,\n",
    "            'u': uncertain_path,\n",
    "            'i': irrelevant_path,\n",
    "        }\n",
    "        labels = {\n",
    "            'n': 'natural',\n",
    "            's': 'steroids',\n",
    "            'u': 'uncertain',\n",
    "            'i': 'irrelevant',\n",
    "            'd': 'deleted',\n",
    "            'a': 'autoremoved'\n",
    "        }\n",
    "        valid_input = False\n",
    "        letter = ''\n",
    "        while(not valid_input):\n",
    "            print('Which label? (n)atural, (s)teroids, (u)ncertain, (i)rrelevant or (d)eleted. Or (q)uit')\n",
    "            letter = input()\n",
    "            if letter in ['n', 's', 'u', 'i', 'd', 'q']:\n",
    "                valid_input = True\n",
    "        if letter == 'q':\n",
    "            return True\n",
    "        elif letter == 'd':\n",
    "            print(f'MARKING \"{reddit_submission.title}\" AS DELETED')\n",
    "            pushshift_submission.label = 'deleted'\n",
    "            self.session.add(pushshift_submission)\n",
    "            self.session.commit()\n",
    "        else:\n",
    "            path = directories.get(letter, \"Invalid directory\")\n",
    "            label = labels.get(letter, \"Invalid label\")\n",
    "            full_path = path / filename\n",
    "\n",
    "            with open(full_path, 'wb') as f:\n",
    "                f.write(response.content)\n",
    "                pushshift_submission.image_path = str(full_path.absolute())\n",
    "                pushshift_submission.label = label\n",
    "                self.session.add(pushshift_submission)\n",
    "                self.session.commit()\n",
    "                print(f'LABELED AS {label}')\n",
    "                print(f'SAVED IMAGE TO {full_path}')\n",
    "        return False\n",
    "        "
   ]
  },
  {
   "cell_type": "code",
   "execution_count": null,
   "id": "c182e107",
   "metadata": {},
   "outputs": [],
   "source": [
    "downloader_labeler = DownloaderLabeler(Session())"
   ]
  },
  {
   "cell_type": "code",
   "execution_count": null,
   "id": "0f836975",
   "metadata": {},
   "outputs": [],
   "source": [
    "session = Session()"
   ]
  },
  {
   "cell_type": "code",
   "execution_count": null,
   "id": "422c0b0d",
   "metadata": {},
   "outputs": [],
   "source": [
    "def label_count(label, session):\n",
    "    return session.query(Submission).filter_by(label=label).count()"
   ]
  },
  {
   "cell_type": "code",
   "execution_count": null,
   "id": "b932429c",
   "metadata": {},
   "outputs": [],
   "source": [
    "def statistics():\n",
    "    session = Session()\n",
    "    steroids = label_count('steroids', session)\n",
    "    natural = label_count('natural', session)\n",
    "    autoremoved = label_count('autoremoved', session)\n",
    "    uncertain = label_count('uncertain', session)\n",
    "    irrelevant = label_count('irrelevant', session)\n",
    "    unlabeled = label_count(None, session)\n",
    "    total = session.query(Submission).count()\n",
    "\n",
    "    labeled = total - unlabeled\n",
    "    ratio_autoremoved = autoremoved / labeled\n",
    "    ratio_natural = natural / labeled\n",
    "    ratio_steroids = steroids / labeled\n",
    "    ratio_trainable = (natural + steroids) / labeled\n",
    "\n",
    "    expected_total_natural_pics = ratio_natural * total\n",
    "    expected_total_steroid_pics = ratio_steroids * total\n",
    "    \n",
    "    print(f'Expected total natural pics: {expected_total_natural_pics}')\n",
    "    print(f'Expected total steroids pics: {expected_total_steroid_pics}')"
   ]
  },
  {
   "cell_type": "code",
   "execution_count": null,
   "id": "2e13dc30",
   "metadata": {},
   "outputs": [],
   "source": [
    "statistics()"
   ]
  }
 ],
 "metadata": {
  "kernelspec": {
   "display_name": "Python 3",
   "language": "python",
   "name": "python3"
  }
 },
 "nbformat": 4,
 "nbformat_minor": 5
}
