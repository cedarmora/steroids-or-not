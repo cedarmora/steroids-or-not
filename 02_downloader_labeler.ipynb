{
 "cells": [
  {
   "cell_type": "code",
   "execution_count": null,
   "id": "53fa366f",
   "metadata": {},
   "outputs": [],
   "source": [
    "%load_ext autoreload\n",
    "%autoreload 2"
   ]
  },
  {
   "cell_type": "code",
   "execution_count": null,
   "id": "8746c3f2",
   "metadata": {},
   "outputs": [],
   "source": [
    "# default_exp downloaderlabeler"
   ]
  },
  {
   "cell_type": "code",
   "execution_count": null,
   "id": "be9981d7",
   "metadata": {},
   "outputs": [],
   "source": [
    "!pip install .[dev]"
   ]
  },
  {
   "cell_type": "code",
   "execution_count": null,
   "id": "864abd9a",
   "metadata": {},
   "outputs": [],
   "source": [
    "!jupyter nbextension enable --py widgetsnbextension"
   ]
  },
  {
   "cell_type": "code",
   "execution_count": null,
   "id": "cdd605f1",
   "metadata": {},
   "outputs": [],
   "source": [
    "import ipywidgets as widgets\n",
    "from ipywidgets import Button, Layout\n",
    "import pickle\n",
    "from steroidsornot.pushshift import select_mostly_useful, unpickle"
   ]
  },
  {
   "cell_type": "code",
   "execution_count": null,
   "id": "abcc00b0",
   "metadata": {},
   "outputs": [],
   "source": [
    "len(select_mostly_useful(downloader_labeler.pickled_posts))"
   ]
  },
  {
   "cell_type": "code",
   "execution_count": null,
   "id": "76880047",
   "metadata": {},
   "outputs": [],
   "source": [
    "unpickle('data/all_nattyorjuice_submissions.pkl')"
   ]
  },
  {
   "cell_type": "code",
   "execution_count": null,
   "id": "f581154e",
   "metadata": {},
   "outputs": [],
   "source": [
    "class DownloaderLabeler():\n",
    "    def __init__(self, path):\n",
    "        self.pickled_posts = []\n",
    "        self._unpickle(path)\n",
    "        \n",
    "        self._setup_buttons()\n",
    "        \n",
    "\n",
    "        \n",
    "        self._main_loop()\n",
    "        \n",
    "    def _main_loop(self):\n",
    "        for submission in self.pickled_posts\n",
    "        \n",
    "    def _next_submission():\n",
    "        \n",
    "\n",
    "        \n",
    "    def _setup_buttons(self):\n",
    "        self.natural_button = Button(description='natural', layout=Layout(border = '2px solid green'))\n",
    "        self.uncertain_button = Button(description='uncertain', layout=Layout(border = '2px solid brown'))\n",
    "        self.steroids_button = Button(description='steroids', layout=Layout(border = '2px solid red'))\n",
    "        self.irrelevant_button = Button(description='irrelevant', layout=Layout(border = '2px solid khaki'))\n",
    "#         display(self.natural_button, self.steroids_button)\n",
    "        self.box = widgets.HBox([self.natural_button,\n",
    "                                 self.uncertain_button,\n",
    "                                 self.steroids_button,\n",
    "                                 self.irrelevant_button,\n",
    "                                ])\n",
    "        display(self.box)\n",
    "        \n",
    "        for button in self.box\n",
    "        "
   ]
  },
  {
   "cell_type": "code",
   "execution_count": null,
   "id": "c182e107",
   "metadata": {},
   "outputs": [],
   "source": [
    "downloader_labeler = DownloaderLabeler('data/downloader.pkl')"
   ]
  },
  {
   "cell_type": "code",
   "execution_count": null,
   "id": "b8501e22",
   "metadata": {},
   "outputs": [],
   "source": []
  }
 ],
 "metadata": {
  "kernelspec": {
   "display_name": "Python 3",
   "language": "python",
   "name": "python3"
  }
 },
 "nbformat": 4,
 "nbformat_minor": 5
}
