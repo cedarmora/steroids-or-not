{
 "cells": [
  {
   "cell_type": "code",
   "execution_count": null,
   "id": "f23ce611",
   "metadata": {},
   "outputs": [],
   "source": [
    "%load_ext autoreload\n",
    "%autoreload 2"
   ]
  },
  {
   "cell_type": "code",
   "execution_count": null,
   "id": "7f5f3876",
   "metadata": {},
   "outputs": [],
   "source": [
    "# default_exp submission\n",
    "# all_local"
   ]
  },
  {
   "cell_type": "code",
   "execution_count": null,
   "id": "cd752885",
   "metadata": {},
   "outputs": [],
   "source": [
    "#export\n",
    "import enum\n",
    "import glob\n",
    "import os\n",
    "from sqlalchemy import Table, Column, Integer, Enum, JSON, Text\n",
    "from steroidsornot.database import Base, Session"
   ]
  },
  {
   "cell_type": "code",
   "execution_count": null,
   "id": "77c00a21",
   "metadata": {},
   "outputs": [],
   "source": [
    "#export\n",
    "class Label(enum.Enum):\n",
    "    natural = 1\n",
    "    steroids = 2\n",
    "    uncertain = 3\n",
    "    irrelevant = 4\n",
    "    deleted = 5\n",
    "    autoremoved = 6"
   ]
  },
  {
   "cell_type": "code",
   "execution_count": null,
   "id": "17ca72b6",
   "metadata": {},
   "outputs": [],
   "source": [
    "#export\n",
    "class Submission(Base):\n",
    "    __tablename__ = \"submission\"\n",
    "\n",
    "    id = Column(Integer, primary_key=True)\n",
    "    label = Column(Enum(Label))\n",
    "    data = Column(JSON)\n",
    "    image_path = Column(Text)\n",
    "\n",
    "    def __repr__(self):\n",
    "        return f\"Submission(id={self.id!r}, label={self.label!r}, data={self.data!r})\""
   ]
  },
  {
   "cell_type": "code",
   "execution_count": null,
   "id": "d88ca62e",
   "metadata": {},
   "outputs": [],
   "source": [
    "def synchronize_image_paths(session):\n",
    "    posts = session.query(Submission).all()\n",
    "    for index, post in enumerate(posts):\n",
    "        path = post.image_path\n",
    "        if path:\n",
    "            filename = os.path.basename(path)\n",
    "            new_path = glob.glob(f'/home/cedar/source/steroids-or-not/data/images/**/{filename}')[0]\n",
    "            post.image_path = new_path\n",
    "            session.add(post)\n",
    "            \n",
    "        # else don't worry about it, if there's no stored path there's nothing to update\n",
    "        \n",
    "    session.commit()"
   ]
  },
  {
   "cell_type": "raw",
   "id": "b7f289a0",
   "metadata": {},
   "source": [
    "synchronize_image_paths(Session())"
   ]
  }
 ],
 "metadata": {
  "kernelspec": {
   "display_name": "Python 3",
   "language": "python",
   "name": "python3"
  }
 },
 "nbformat": 4,
 "nbformat_minor": 5
}
