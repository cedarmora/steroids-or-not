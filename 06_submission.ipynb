{
 "cells": [
  {
   "cell_type": "code",
   "execution_count": null,
   "id": "f23ce611",
   "metadata": {},
   "outputs": [
    {
     "name": "stdout",
     "output_type": "stream",
     "text": [
      "The autoreload extension is already loaded. To reload it, use:\n",
      "  %reload_ext autoreload\n"
     ]
    }
   ],
   "source": [
    "%load_ext autoreload\n",
    "%autoreload 2"
   ]
  },
  {
   "cell_type": "code",
   "execution_count": null,
   "id": "7f5f3876",
   "metadata": {},
   "outputs": [],
   "source": [
    "# default_exp submission\n",
    "# all_local"
   ]
  },
  {
   "cell_type": "code",
   "execution_count": null,
   "id": "cd752885",
   "metadata": {},
   "outputs": [],
   "source": [
    "#export\n",
    "import enum\n",
    "from sqlalchemy import Table, Column, Integer, Enum, JSON\n",
    "from steroidsornot.database import Base"
   ]
  },
  {
   "cell_type": "code",
   "execution_count": null,
   "id": "77c00a21",
   "metadata": {},
   "outputs": [],
   "source": [
    "#export\n",
    "class Label(enum.Enum):\n",
    "    natural = 1\n",
    "    steroids = 2\n",
    "    uncertain = 3\n",
    "    irrelevant = 4"
   ]
  },
  {
   "cell_type": "code",
   "execution_count": null,
   "id": "17ca72b6",
   "metadata": {},
   "outputs": [],
   "source": [
    "#export\n",
    "class Submission(Base):\n",
    "    __tablename__ = \"submission\"\n",
    "\n",
    "    id = Column(Integer, primary_key=True)\n",
    "    label = Column(Enum(Label))\n",
    "    data = Column(JSON)\n",
    "\n",
    "    def __repr__(self):\n",
    "        return f\"Submission(id={self.id!r}, label={self.label!r}, data={self.data!r})\""
   ]
  }
 ],
 "metadata": {
  "kernelspec": {
   "display_name": "Python 3",
   "language": "python",
   "name": "python3"
  }
 },
 "nbformat": 4,
 "nbformat_minor": 5
}
