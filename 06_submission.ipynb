{
 "cells": [
  {
   "cell_type": "code",
   "execution_count": null,
   "id": "f23ce611",
   "metadata": {},
   "outputs": [
    {
     "name": "stdout",
     "output_type": "stream",
     "text": [
      "The autoreload extension is already loaded. To reload it, use:\n",
      "  %reload_ext autoreload\n"
     ]
    }
   ],
   "source": [
    "%load_ext autoreload\n",
    "%autoreload 2"
   ]
  },
  {
   "cell_type": "code",
   "execution_count": null,
   "id": "7f5f3876",
   "metadata": {},
   "outputs": [],
   "source": [
    "# default_exp submission\n",
    "# all_local"
   ]
  },
  {
   "cell_type": "code",
   "execution_count": null,
   "id": "cd752885",
   "metadata": {},
   "outputs": [],
   "source": [
    "#export\n",
    "import enum\n",
    "import glob\n",
    "from pathlib import Path\n",
    "from sqlalchemy import Table, Column, Integer, Enum, JSON, Text\n",
    "from steroidsornot.database import Base, Session"
   ]
  },
  {
   "cell_type": "code",
   "execution_count": null,
   "id": "77c00a21",
   "metadata": {},
   "outputs": [],
   "source": [
    "#export\n",
    "class Label(enum.Enum):\n",
    "    natural = 1\n",
    "    steroids = 2\n",
    "    uncertain = 3\n",
    "    irrelevant = 4\n",
    "    deleted = 5\n",
    "    autoremoved = 6\n",
    "    bad_natural = 7\n",
    "    bad_steroids = 8"
   ]
  },
  {
   "cell_type": "code",
   "execution_count": null,
   "id": "17ca72b6",
   "metadata": {},
   "outputs": [],
   "source": [
    "#export\n",
    "class Submission(Base):\n",
    "    __tablename__ = \"submission\"\n",
    "\n",
    "    id = Column(Integer, primary_key=True)\n",
    "    label = Column(Enum(Label))\n",
    "    data = Column(JSON)\n",
    "    image_path = Column(Text)\n",
    "\n",
    "    def __repr__(self):\n",
    "        return f\"Submission(id={self.id!r}, label={self.label!r}, image_path={self.image_path!r}, data={self.data!r})\""
   ]
  },
  {
   "cell_type": "code",
   "execution_count": null,
   "id": "d88ca62e",
   "metadata": {},
   "outputs": [],
   "source": [
    "def synchronize_image_paths(session):\n",
    "    posts = session.query(Submission).all()\n",
    "    for index, post in enumerate(posts):\n",
    "        path = post.image_path\n",
    "\n",
    "        if path:\n",
    "            path = Path(path)\n",
    "            new_path = Path(glob.glob(f'/home/cedar/source/steroids-or-not/data/images/**/{path.name}')[0])  \n",
    "            if new_path != path:\n",
    "                post.image_path = str(new_path)\n",
    "                post.label = new_path.parent.name\n",
    "                session.add(post)\n",
    "            \n",
    "        # else don't worry about it, if there's no stored path there's nothing to update\n",
    "        \n",
    "    session.commit()"
   ]
  },
  {
   "cell_type": "code",
   "execution_count": null,
   "id": "d5bc64fd",
   "metadata": {},
   "outputs": [
    {
     "name": "stdout",
     "output_type": "stream",
     "text": [
      "2021-09-03 18:09:11,017 INFO sqlalchemy.engine.Engine BEGIN (implicit)\n",
      "2021-09-03 18:09:11,020 INFO sqlalchemy.engine.Engine SELECT submission.id AS submission_id, submission.label AS submission_label, submission.data AS submission_data, submission.image_path AS submission_image_path \n",
      "FROM submission\n",
      "2021-09-03 18:09:11,021 INFO sqlalchemy.engine.Engine [generated in 0.00145s] ()\n",
      "2021-09-03 18:09:12,570 INFO sqlalchemy.engine.Engine UPDATE submission SET label=?, image_path=? WHERE submission.id = ?\n",
      "2021-09-03 18:09:12,571 INFO sqlalchemy.engine.Engine [generated in 0.00540s] (('bad_steroids', '/home/cedar/source/steroids-or-not/data/images/bad_steroids/wrwzt71lyve71.jpg', 16), ('bad_steroids', '/home/cedar/source/steroids-or-not/data/images/bad_steroids/pzrafn19qve71.jpg', 18), ('bad_steroids', '/home/cedar/source/steroids-or-not/data/images/bad_steroids/jex1fyll88d71.jpg', 43), ('bad_steroids', '/home/cedar/source/steroids-or-not/data/images/bad_steroids/079hrq3ob4d71.jpg', 52), ('bad_steroids', '/home/cedar/source/steroids-or-not/data/images/bad_steroids/bjyaovn733d71.jpg', 54), ('bad_steroids', '/home/cedar/source/steroids-or-not/data/images/bad_steroids/u89v6leqb2d71.jpg', 57), ('bad_steroids', '/home/cedar/source/steroids-or-not/data/images/bad_steroids/0n06et0vdyc71.jpg', 64), ('bad_steroids', '/home/cedar/source/steroids-or-not/data/images/bad_steroids/urlkzttlvuc71.jpg', 71)  ... displaying 10 of 848 total bound parameter sets ...  ('bad_steroids', '/home/cedar/source/steroids-or-not/data/images/bad_steroids/43rozpwyv9651.jpg', 5946), ('bad_steroids', '/home/cedar/source/steroids-or-not/data/images/bad_steroids/8i610035o3651.jpg', 5960))\n",
      "2021-09-03 18:09:12,639 INFO sqlalchemy.engine.Engine COMMIT\n"
     ]
    }
   ],
   "source": [
    "synchronize_image_paths(Session())"
   ]
  },
  {
   "cell_type": "code",
   "execution_count": null,
   "id": "91fd87ac",
   "metadata": {},
   "outputs": [],
   "source": []
  }
 ],
 "metadata": {
  "kernelspec": {
   "display_name": "Python 3",
   "language": "python",
   "name": "python3"
  }
 },
 "nbformat": 4,
 "nbformat_minor": 5
}
