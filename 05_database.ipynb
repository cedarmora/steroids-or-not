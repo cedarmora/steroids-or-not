{
 "cells": [
  {
   "cell_type": "code",
   "execution_count": null,
   "id": "3f2571d9",
   "metadata": {},
   "outputs": [],
   "source": [
    "%load_ext autoreload\n",
    "%autoreload 2"
   ]
  },
  {
   "cell_type": "code",
   "execution_count": null,
   "id": "9ea12f61",
   "metadata": {},
   "outputs": [],
   "source": [
    "# default_exp database\n",
    "# all_local"
   ]
  },
  {
   "cell_type": "code",
   "execution_count": null,
   "id": "07670ee2",
   "metadata": {},
   "outputs": [],
   "source": [
    "import sqlalchemy\n",
    "import enum\n",
    "from sqlalchemy.orm import registry\n",
    "from sqlalchemy import Table, Column, Integer, Enum, JSON, create_engine\n",
    "from pathlib import Path"
   ]
  },
  {
   "cell_type": "code",
   "execution_count": null,
   "id": "3ee201c9",
   "metadata": {},
   "outputs": [],
   "source": [
    "database_path = Path('./data/db.db')\n",
    "\n",
    "engine = create_engine(f'sqlite+pysqlite:///{database_path}', echo=True, future=True)\n",
    "\n",
    "mapper_registry = registry()\n",
    "Base = mapper_registry.generate_base()"
   ]
  },
  {
   "cell_type": "code",
   "execution_count": null,
   "id": "a68d254c",
   "metadata": {},
   "outputs": [],
   "source": [
    "class Label(enum.Enum):\n",
    "    natural = 1\n",
    "    steroids = 2\n",
    "    uncertain = 3\n",
    "    irrelevant = 4"
   ]
  },
  {
   "cell_type": "code",
   "execution_count": null,
   "id": "736bfa77",
   "metadata": {},
   "outputs": [],
   "source": [
    "class Submission(Base):\n",
    "    __tablename__ = \"submission\"\n",
    "\n",
    "    id = Column(Integer, primary_key=True)\n",
    "    label = Column(Enum(Label))\n",
    "    data = Column(JSON)\n",
    "\n",
    "    def __repr__(self):\n",
    "        return f\"Submission(id={self.id!r}, label={self.label!r}, data={self.data!r})\""
   ]
  },
  {
   "cell_type": "code",
   "execution_count": null,
   "id": "0b594e4f",
   "metadata": {},
   "outputs": [],
   "source": [
    "Base.metadata.create_all(engine)"
   ]
  }
 ],
 "metadata": {
  "kernelspec": {
   "display_name": "Python 3",
   "language": "python",
   "name": "python3"
  }
 },
 "nbformat": 4,
 "nbformat_minor": 5
}
