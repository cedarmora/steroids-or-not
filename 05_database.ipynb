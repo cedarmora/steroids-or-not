{
 "cells": [
  {
   "cell_type": "code",
   "execution_count": null,
   "id": "3f2571d9",
   "metadata": {},
   "outputs": [],
   "source": [
    "%load_ext autoreload\n",
    "%autoreload 2"
   ]
  },
  {
   "cell_type": "code",
   "execution_count": null,
   "id": "9ea12f61",
   "metadata": {},
   "outputs": [],
   "source": [
    "# default_exp database\n",
    "# all_local"
   ]
  },
  {
   "cell_type": "code",
   "execution_count": null,
   "id": "07670ee2",
   "metadata": {},
   "outputs": [],
   "source": [
    "#export\n",
    "\n",
    "from sqlalchemy.orm import registry\n",
    "from sqlalchemy import create_engine\n",
    "from pathlib import Path"
   ]
  },
  {
   "cell_type": "code",
   "execution_count": null,
   "id": "2ee89045",
   "metadata": {},
   "outputs": [
    {
     "name": "stdout",
     "output_type": "stream",
     "text": [
      "2021-08-17 15:38:34,850 INFO sqlalchemy.engine.Engine BEGIN (implicit)\n",
      "2021-08-17 15:38:34,851 INFO sqlalchemy.engine.Engine COMMIT\n"
     ]
    }
   ],
   "source": [
    "#export\n",
    "\n",
    "database_path = Path('./data/db.db')\n",
    "\n",
    "engine = create_engine(f'sqlite+pysqlite:///{database_path}', echo=True, future=True)\n",
    "\n",
    "mapper_registry = registry()\n",
    "Base = mapper_registry.generate_base()\n",
    "\n",
    "Base.metadata.create_all(engine)"
   ]
  }
 ],
 "metadata": {
  "kernelspec": {
   "display_name": "Python 3",
   "language": "python",
   "name": "python3"
  }
 },
 "nbformat": 4,
 "nbformat_minor": 5
}
