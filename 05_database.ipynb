{
 "cells": [
  {
   "cell_type": "code",
   "execution_count": null,
   "id": "3f2571d9",
   "metadata": {},
   "outputs": [
    {
     "name": "stdout",
     "output_type": "stream",
     "text": [
      "The autoreload extension is already loaded. To reload it, use:\n",
      "  %reload_ext autoreload\n"
     ]
    }
   ],
   "source": [
    "%load_ext autoreload\n",
    "%autoreload 2"
   ]
  },
  {
   "cell_type": "code",
   "execution_count": null,
   "id": "9ea12f61",
   "metadata": {},
   "outputs": [],
   "source": [
    "# default_exp database\n",
    "# all_local"
   ]
  },
  {
   "cell_type": "code",
   "execution_count": null,
   "id": "07670ee2",
   "metadata": {},
   "outputs": [],
   "source": [
    "#export\n",
    "\n",
    "from sqlalchemy.orm import registry\n",
    "from sqlalchemy import create_engine\n",
    "from sqlalchemy.orm import sessionmaker\n",
    "from pathlib import Path"
   ]
  },
  {
   "cell_type": "code",
   "execution_count": null,
   "id": "2ee89045",
   "metadata": {},
   "outputs": [],
   "source": [
    "#export\n",
    "\n",
    "mapper_registry = registry()\n",
    "Base = mapper_registry.generate_base()\n",
    "\n",
    "database_path = Path('./data/db.db')\n",
    "\n",
    "engine = create_engine(f'sqlite+pysqlite:///{database_path}', echo=True, future=True)\n",
    "\n",
    "# create a configured \"Session\" class\n",
    "Session = sessionmaker(bind=engine)\n",
    "\n",
    "def create_db(base, engine):\n",
    "    base.metadata.create_all(engine)"
   ]
  }
 ],
 "metadata": {
  "kernelspec": {
   "display_name": "Python 3",
   "language": "python",
   "name": "python3"
  }
 },
 "nbformat": 4,
 "nbformat_minor": 5
}
