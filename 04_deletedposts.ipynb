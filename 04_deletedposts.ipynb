{
 "cells": [
  {
   "cell_type": "markdown",
   "id": "6d41918a",
   "metadata": {},
   "source": [
    "### Investigate how to exclude deleted posts"
   ]
  },
  {
   "cell_type": "code",
   "execution_count": null,
   "id": "ed9ee05f",
   "metadata": {},
   "outputs": [],
   "source": [
    "# default_exp deletedposts\n",
    "# all_local"
   ]
  },
  {
   "cell_type": "code",
   "execution_count": null,
   "id": "9d8c97a7",
   "metadata": {},
   "outputs": [],
   "source": [
    "from steroidsornot.firsttry import PrawClient"
   ]
  },
  {
   "cell_type": "code",
   "execution_count": null,
   "id": "3dfb2520",
   "metadata": {},
   "outputs": [],
   "source": [
    "reddit = PrawClient().reddit()"
   ]
  },
  {
   "cell_type": "code",
   "execution_count": null,
   "id": "b17db69c",
   "metadata": {},
   "outputs": [],
   "source": [
    "posts = {\n",
    "    'deleted': reddit.submission(url='https://www.reddit.com/r/nattyorjuice/comments/oxsr5t/kenneth_the_ii_is_he_natty_or_juice/'),\n",
    "\n",
    "    'mod_removed': reddit.submission(url='https://www.reddit.com/r/nattyorjuice/comments/owvbpl/chul_soon/'),\n",
    "\n",
    "    'normal': reddit.submission(url='https://www.reddit.com/r/nattyorjuice/comments/p17okr/how_long_does_it_take_to_get_this_natty_physique/'),\n",
    "\n",
    "    'spam_removed': reddit.submission(url='https://www.reddit.com/r/nattyorjuice/comments/oqwkmd/55_230lbs_what_do_we_think/'),\n",
    "}"
   ]
  },
  {
   "cell_type": "code",
   "execution_count": null,
   "id": "d631530e",
   "metadata": {},
   "outputs": [],
   "source": [
    "vars(posts['deleted'])\n",
    "\n",
    "vars(posts['mod_removed'])\n",
    "\n",
    "vars(posts['normal'])\n",
    "\n",
    "vars(posts['spam_removed'])"
   ]
  },
  {
   "cell_type": "markdown",
   "id": "153d7897",
   "metadata": {},
   "source": [
    "If the `removed_by_category` field on submissions is `None`, the submission has not been removed or deleted \n",
    "\n",
    "P.S. usually? The selftext is sometimes set to [removed] or [deleted] without the `removed_by_category` being set"
   ]
  }
 ],
 "metadata": {
  "kernelspec": {
   "display_name": "Python 3",
   "language": "python",
   "name": "python3"
  }
 },
 "nbformat": 4,
 "nbformat_minor": 5
}
